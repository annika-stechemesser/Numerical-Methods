{
 "cells": [
  {
   "cell_type": "markdown",
   "metadata": {},
   "source": [
    "# MA934 Numerical Methods - Workbook 3\n",
    "\n",
    "If you haven't already done so, install the DualNumbers Julia package. It is a good idea to update all your packages first. The commands are\n",
    "\n",
    "```\n",
    "Pkg.update()\n",
    "Pkg.add(\"DualNumbers\")\n",
    "```\n",
    "\n",
    "but you only need to run them once. "
   ]
  },
  {
   "cell_type": "markdown",
   "metadata": {},
   "source": [
    "##### All the functions needed to run this workbook are included in the file  \"MODULES/MyUtils_wb3.jl\". If a question particularly asks to write a function, these functions are additionally explained and included in the notebook.\n",
    "\n",
    "##### Even though only question 1 is to be handed in, I still include my work for the other questions because I already worked quite a lot on it. It is not properly written up."
   ]
  },
  {
   "cell_type": "code",
   "execution_count": 1,
   "metadata": {
    "collapsed": false
   },
   "outputs": [
    {
     "name": "stderr",
     "output_type": "stream",
     "text": [
      "\u001b[1m\u001b[36mINFO: \u001b[39m\u001b[22m\u001b[36mPackage DualNumbers is already installed\n",
      "\u001b[39m\u001b[1m\u001b[36mINFO: \u001b[39m\u001b[22m\u001b[36mMETADATA is out-of-date — you may not have the latest version of DualNumbers\n",
      "\u001b[39m\u001b[1m\u001b[36mINFO: \u001b[39m\u001b[22m\u001b[36mUse `Pkg.update()` to get the latest versions of your packages\n",
      "\u001b[39m"
     ]
    },
    {
     "data": {
      "text/plain": [
       "golden_section (generic function with 1 method)"
      ]
     },
     "execution_count": 1,
     "metadata": {},
     "output_type": "execute_result"
    }
   ],
   "source": [
    "# Pkg.update()\n",
    "Pkg.add(\"DualNumbers\")\n",
    "using Plots\n",
    "font1 = Plots.font(\"Helvetica\", 12)\n",
    "pyplot(guidefont=font1, xtickfont=font1, ytickfont=font1, legendfont=font1)\n",
    "using DualNumbers\n",
    "include(\"MODULES/MyUtils_wb3.jl\")"
   ]
  },
  {
   "cell_type": "markdown",
   "metadata": {},
   "source": [
    "## Question 1: Numerical differentiation\n",
    "\n",
    "**1))** Derive a finite difference formula for the derivative of a function, $f$ at a point $x$ using the 3-point stencil $(x, x+h, x+2h)$ and state the order of the approximation error in terms of $h$.\n",
    "\n",
    "**2)** Write a formula for the derivative, $f^\\prime(x)$, of the function\n",
    "\n",
    "$$f(x) = \\sin(\\exp(x)) $$\n",
    "\n",
    "and evaluate it at $x=1$.\n",
    "\n",
    "**3)** Use your finite difference formula to approximate the value of $f^\\prime(1)$ for values of $h$ decreasing from $2^{-1}$ to $2^{-30}$ in powers of $2$. Plot the error as a function of $h$ and verify the theoretically predicted scaling of the error with $h$. What is the best relative error you can achieve?\n",
    "\n",
    "**4)** Read the examples at https://github.com/JuliaDiff/DualNumbers.jl. Define a dual number $x = 1+\\epsilon$ and use it to evaluate $f^\\prime(1)$. Verify that the answer is accurate to within machine precision."
   ]
  },
  {
   "cell_type": "markdown",
   "metadata": {
    "collapsed": true
   },
   "source": [
    "#### Question 1 Part 1\n",
    "\n",
    "We evaluate the function f(x) at the points of the stencil and taylor expand the function around these points:\n",
    "\n",
    "\\begin{align}\n",
    "f(x)&=f(x)\\\\\n",
    "f(x+h)&=f(x)+f'(x)h+f''(x)\\frac{h^2}{2}+\\mathcal{O}(h^3)\\\\\n",
    "f(x+2h)&=f(x)+2f'(x)h+2f''(x){h^2}+\\mathcal{O}(h^3)\n",
    "\\end{align}\n",
    "\n",
    "We define F as a linear combination of the stencil: \n",
    "\n",
    " $$F= A f(x) + B f(x+h) + C f(x+2h)$$\n",
    "\n",
    "\n",
    "We want to use $F$ to approximate $f'(x)$, so we have to solve the following system of linear equations: \n",
    "\n",
    "\\begin{align}\n",
    "A+B+C&=0\\\\\n",
    "B+2C&=1\\\\\n",
    "\\frac{B}{2}+2C&=0\n",
    "\\end{align}\n",
    "\n",
    "Solving this gives $ A=-3/2 , B=2 , C=-1/2$\n",
    "\n",
    "With this choice of $A,B,C$ we have $F=f'(x)h+\\mathcal{O}(h^3)$. Rearranging this suggests that \n",
    "\n",
    "$$ f'(x) = \\frac{-3f(x)+4f(x+h)-f(x+2h)}{2h}+\\mathcal{O}(h^2)$$\n",
    "\n",
    "Therefore the order of the approximation error is $h^2$.\n"
   ]
  },
  {
   "cell_type": "markdown",
   "metadata": {},
   "source": [
    "#### Question 1 Part 2\n",
    "We want to evaluate the derivative of $f(x)=\\sin(\\exp(x))$ at $x=1$. \n",
    "\n",
    "$$ f'(x)=\\cos(\\exp(x))\\exp(x)$$\n",
    "\n",
    "For $x=1$ we therefore get \n",
    "\n",
    "$$ f'(1)=\\cos(e)e$$"
   ]
  },
  {
   "cell_type": "markdown",
   "metadata": {},
   "source": [
    "#### Question 1 Part 3\n",
    "\n",
    "We evaluate the finite differnece formula from part 1 for $h$ from $2^{-1}$ to $2^{-30}$ in powers of 2. We plot the error as a function of $h$. "
   ]
  },
  {
   "cell_type": "code",
   "execution_count": 2,
   "metadata": {
    "collapsed": false
   },
   "outputs": [
    {
     "data": {
      "text/html": [
       "<img src=\"data:image/png;base64,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\" />"
      ]
     },
     "execution_count": 2,
     "metadata": {},
     "output_type": "execute_result"
    },
    {
     "name": "stderr",
     "output_type": "stream",
     "text": [
      "/Users/colmconnaughton/.julia/v0.6/Conda/deps/usr/lib/python2.7/site-packages/matplotlib/font_manager.py:1297: UserWarning: findfont: Font family [u'Helvetica'] not found. Falling back to DejaVu Sans\n",
      "  (prop.get_family(), self.defaultFamily[fontext]))\n"
     ]
    }
   ],
   "source": [
    "der=cos(exp(1))*exp(1)\n",
    "\n",
    "h=zeros(30)\n",
    "z=zeros(30)\n",
    "\n",
    "for i=1:30\n",
    "    h[i]=2.0^(-i)\n",
    "    z[i]=abs(f_prime_num(h[i])-der) #NUMBER 1.2 IN THE FILE\n",
    "end\n",
    "\n",
    "scatter(h,z,linewidth=2, yscale=:log2, xscale=:log2,xlabel=\"h\", label=\"Error\",title=\"Error as a function of h\", markersize=5)\n"
   ]
  },
  {
   "cell_type": "markdown",
   "metadata": {},
   "source": [
    "Initially we find that the error is decreasing with h, as expected, but as h gets too small (less than $\\approx 2^{-17}$) the floating point arithmetics cause a significant rounding error. In the decreasing region, we see that the plot is approximately linear (on a log/log scale). Therefore we expect the error to go as a power law (error $\\sim h^k$) where $k$ is the gradient of the straight line. To find this gradient we only consider h from $2^{-1}$ to $2^{-17}$ and use the function \"lingreg\" to fit a line (linear regression). We find that gradient of the line is 2.13 , which roughly matches our expectations from part 1 (i.e. error $\\mathcal{O}(h^2)$). "
   ]
  },
  {
   "cell_type": "markdown",
   "metadata": {},
   "source": [
    "The best relative error (minimum error) we can achieve is the minimum of the error function displayed above which equals $2^{-33.5}$."
   ]
  },
  {
   "cell_type": "code",
   "execution_count": 3,
   "metadata": {
    "collapsed": false
   },
   "outputs": [
    {
     "name": "stdout",
     "output_type": "stream",
     "text": [
      "-33.53770543011393\n"
     ]
    }
   ],
   "source": [
    "println(log2(findmin(z)[1]))"
   ]
  },
  {
   "cell_type": "code",
   "execution_count": 4,
   "metadata": {
    "collapsed": false,
    "scrolled": false
   },
   "outputs": [
    {
     "name": "stderr",
     "output_type": "stream",
     "text": [
      "\u001b[1m\u001b[33mWARNING: \u001b[39m\u001b[22m\u001b[33mlog2{T <: Number}(x::AbstractArray{T}) is deprecated, use log2.(x) instead.\u001b[39m\n",
      "Stacktrace:\n",
      " [1] \u001b[1mdepwarn\u001b[22m\u001b[22m\u001b[1m(\u001b[22m\u001b[22m::String, ::Symbol\u001b[1m)\u001b[22m\u001b[22m at \u001b[1m./deprecated.jl:70\u001b[22m\u001b[22m\n",
      " [2] \u001b[1mlog2\u001b[22m\u001b[22m\u001b[1m(\u001b[22m\u001b[22m::Array{Float64,1}\u001b[1m)\u001b[22m\u001b[22m at \u001b[1m./deprecated.jl:57\u001b[22m\u001b[22m\n",
      " [3] \u001b[1minclude_string\u001b[22m\u001b[22m\u001b[1m(\u001b[22m\u001b[22m::String, ::String\u001b[1m)\u001b[22m\u001b[22m at \u001b[1m./loading.jl:515\u001b[22m\u001b[22m\n",
      " [4] \u001b[1minclude_string\u001b[22m\u001b[22m\u001b[1m(\u001b[22m\u001b[22m::Module, ::String, ::String\u001b[1m)\u001b[22m\u001b[22m at \u001b[1m/Users/colmconnaughton/.julia/v0.6/Compat/src/Compat.jl:174\u001b[22m\u001b[22m\n",
      " [5] \u001b[1mexecute_request\u001b[22m\u001b[22m\u001b[1m(\u001b[22m\u001b[22m::ZMQ.Socket, ::IJulia.Msg\u001b[1m)\u001b[22m\u001b[22m at \u001b[1m/Users/colmconnaughton/.julia/v0.6/IJulia/src/execute_request.jl:154\u001b[22m\u001b[22m\n",
      " [6] \u001b[1meventloop\u001b[22m\u001b[22m\u001b[1m(\u001b[22m\u001b[22m::ZMQ.Socket\u001b[1m)\u001b[22m\u001b[22m at \u001b[1m/Users/colmconnaughton/.julia/v0.6/IJulia/src/eventloop.jl:8\u001b[22m\u001b[22m\n",
      " [7] \u001b[1m(::IJulia.##14#17)\u001b[22m\u001b[22m\u001b[1m(\u001b[22m\u001b[22m\u001b[1m)\u001b[22m\u001b[22m at \u001b[1m./task.jl:335\u001b[22m\u001b[22m\n",
      "while loading In[4], in expression starting on line 3\n",
      "\u001b[1m\u001b[33mWARNING: \u001b[39m\u001b[22m\u001b[33mlog2{T <: Number}(x::AbstractArray{T}) is deprecated, use log2.(x) instead.\u001b[39m\n",
      "Stacktrace:\n",
      " [1] \u001b[1mdepwarn\u001b[22m\u001b[22m\u001b[1m(\u001b[22m\u001b[22m::String, ::Symbol\u001b[1m)\u001b[22m\u001b[22m at \u001b[1m./deprecated.jl:70\u001b[22m\u001b[22m\n",
      " [2] \u001b[1mlog2\u001b[22m\u001b[22m\u001b[1m(\u001b[22m\u001b[22m::Array{Float64,1}\u001b[1m)\u001b[22m\u001b[22m at \u001b[1m./deprecated.jl:57\u001b[22m\u001b[22m\n",
      " [3] \u001b[1minclude_string\u001b[22m\u001b[22m\u001b[1m(\u001b[22m\u001b[22m::String, ::String\u001b[1m)\u001b[22m\u001b[22m at \u001b[1m./loading.jl:515\u001b[22m\u001b[22m\n",
      " [4] \u001b[1minclude_string\u001b[22m\u001b[22m\u001b[1m(\u001b[22m\u001b[22m::Module, ::String, ::String\u001b[1m)\u001b[22m\u001b[22m at \u001b[1m/Users/colmconnaughton/.julia/v0.6/Compat/src/Compat.jl:174\u001b[22m\u001b[22m\n",
      " [5] \u001b[1mexecute_request\u001b[22m\u001b[22m\u001b[1m(\u001b[22m\u001b[22m::ZMQ.Socket, ::IJulia.Msg\u001b[1m)\u001b[22m\u001b[22m at \u001b[1m/Users/colmconnaughton/.julia/v0.6/IJulia/src/execute_request.jl:154\u001b[22m\u001b[22m\n",
      " [6] \u001b[1meventloop\u001b[22m\u001b[22m\u001b[1m(\u001b[22m\u001b[22m::ZMQ.Socket\u001b[1m)\u001b[22m\u001b[22m at \u001b[1m/Users/colmconnaughton/.julia/v0.6/IJulia/src/eventloop.jl:8\u001b[22m\u001b[22m\n",
      " [7] \u001b[1m(::IJulia.##14#17)\u001b[22m\u001b[22m\u001b[1m(\u001b[22m\u001b[22m\u001b[1m)\u001b[22m\u001b[22m at \u001b[1m./task.jl:335\u001b[22m\u001b[22m\n",
      "while loading In[4], in expression starting on line 4\n"
     ]
    },
    {
     "name": "stdout",
     "output_type": "stream",
     "text": [
      "The gradient of the best fit line is\n",
      "2.133171415592277\n"
     ]
    },
    {
     "data": {
      "text/html": [
       "<img src=\"data:image/png;base64,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\" />"
      ]
     },
     "execution_count": 4,
     "metadata": {},
     "output_type": "execute_result"
    }
   ],
   "source": [
    "h_cut=h[1:17]\n",
    "z_cut=z[1:17]\n",
    "h_cut_log=log2(h_cut)\n",
    "z_cut_log=log2(z_cut)\n",
    "\n",
    "a,b=linreg(h_cut_log,z_cut_log)\n",
    "println(\"The gradient of the best fit line is\")\n",
    "println(b)\n",
    "\n",
    "plot(h_cut,2.^(b*h_cut_log+a),linewidth=3,label=\"Best fit line\")\n",
    "scatter!(h_cut,z_cut,linewidth=2,label=\"Error\",xlabel=\"h\",title=\"How does the error scale with h? \\n [log2/log2 plot]\",yscale=:log2,xscale=:log2,markersize=6)\n"
   ]
  },
  {
   "cell_type": "markdown",
   "metadata": {},
   "source": [
    "##### Question 1 Part 4\n",
    "We define a dual number $x = 1+\\epsilon$ and use it to evaluate $f^\\prime(1)$. To verify that the answer is accurate to within machine precision, we subtract it from the theoretical solution. This gives us zero. \n"
   ]
  },
  {
   "cell_type": "code",
   "execution_count": 5,
   "metadata": {
    "collapsed": false
   },
   "outputs": [
    {
     "name": "stdout",
     "output_type": "stream",
     "text": [
      "f(1) = 0.41078129050290885\n",
      "f'(1) = -2.478349732955235\n",
      "0.0\n"
     ]
    }
   ],
   "source": [
    "x = Dual(1, 1)\n",
    "y = f(x)\n",
    "println(\"f(1) = \", realpart(y))\n",
    "println(\"f'(1) = \", dualpart(y))\n",
    "\n",
    "#Show that the solution with dual numbers and the theoretical prediction are the same:\n",
    "println(dualpart(y)-f_prime_ana(1)) #NUMBER 1.3 IN THE FILE"
   ]
  },
  {
   "cell_type": "markdown",
   "metadata": {},
   "source": [
    " <font color=blue>\n",
    " Another excellent answer.\n",
    "</font>"
   ]
  },
  {
   "cell_type": "markdown",
   "metadata": {},
   "source": [
    "<font color=blue>\n",
    "15/15\n",
    "</font>"
   ]
  },
  {
   "cell_type": "markdown",
   "metadata": {},
   "source": [
    "### END OF Q1"
   ]
  },
  {
   "cell_type": "markdown",
   "metadata": {},
   "source": [
    "## Question 2: Finding roots\n",
    "\n",
    "**1)** Referring to the function, $f(x)$, defined above, find the roots of the equation\n",
    "\n",
    "$$ f(x) = 0$$\n",
    "\n",
    "in the interval $0<x<2$.\n",
    "\n",
    "**2)** Implement the bracketing and bisection method to find one of the roots numerically. Measure the error at each iteration of the algorithm and demonstrate that the error decreases exponentially as a function of the number of iterations. To how many digits of precision can you approximate the root?\n",
    "\n",
    "**3)** Perform the same measurements for the Newton Raphson method and show that the error decreases faster than exponentially as a function of the number of iterations."
   ]
  },
  {
   "cell_type": "markdown",
   "metadata": {
    "collapsed": true
   },
   "source": [
    "1)\n",
    "We want to find the roots of the function $$f(x)=\\sin(\\exp(x))$$ \n",
    "\n",
    "For $f(x)$ to be $0$, $\\exp(x)$ has to be equal to $k\\pi$ for integer $k$. Solving $\\exp(x)=k\\pi$ we get $x=\\log(k\\pi)$. As we're only interested in solutions for $x \\in [0,2]$, we solve $\\log(y)=0$ and $\\log(y)=2$ which gives us $k\\pi \\in [1, exp(2)\\sim 7.4]$. Therefore our roots are $\\log(\\pi)$ and $\\log(2\\pi)$."
   ]
  },
  {
   "cell_type": "markdown",
   "metadata": {},
   "source": [
    "2) \n",
    "We want to find numerically find the root $\\log(\\pi)$ of the function $f(x)$ using the Bracketing and Bisection method. "
   ]
  },
  {
   "cell_type": "code",
   "execution_count": null,
   "metadata": {
    "collapsed": false
   },
   "outputs": [],
   "source": [
    "maxstep=45\n",
    "a=1.0\n",
    "b=1.2\n",
    "steps,estimates=bracket_and_bisect(a,b,f,maxstep)\n",
    "\n",
    "ana=log(pi)\n",
    "errors=abs(estimates-ana)\n",
    "\n",
    "\n",
    "error_log=log2(errors)\n",
    "a,b=linreg(steps,error_log)\n",
    "plot(steps,errors,linewidth=2,xlabel=\"Iteration\",title=\"Error of the Bracketing and Bisection Method\",label=\"Error\",yscale=:log2)\n",
    "plot!(steps,2.^(b*steps+a),linewidth=2,label=\"Best fit line\")"
   ]
  },
  {
   "cell_type": "markdown",
   "metadata": {},
   "source": [
    "As $\\log(\\pi)$ is approximately $1.145$ we choose our inital interval to be $[a,b]=[1.0,1.2]$. We iterate the algorithm 45 times. The number of iterations is set to 45 as a bigger number of iterations (e.g. 50) turned out not be sensible due to the floating point arithmetics. We plot the calculated error against the iteration number on a log-linear scale. The plot is approximately linear (see bestfit line) which implies that the error decreases exponentially with the iteration number. "
   ]
  },
  {
   "cell_type": "code",
   "execution_count": null,
   "metadata": {
    "collapsed": false
   },
   "outputs": [],
   "source": [
    "println(estimates[45])\n",
    "println(log(pi))"
   ]
  },
  {
   "cell_type": "markdown",
   "metadata": {},
   "source": [
    "Our best estimate of the root is 1.1447298858493982. The first 12 decimal places equal the ones of the analytical root $\\log(\\pi)$."
   ]
  },
  {
   "cell_type": "markdown",
   "metadata": {},
   "source": [
    "3)\n",
    "\n",
    "We now want to find the roots of the function using the Newton Raphson method. To do that, we use the analytics\n",
    "derivative that we found in Q1 part 2: \n",
    "\n",
    "$$f'(x)=\\cos(\\exp(x))\\exp(x)$$."
   ]
  },
  {
   "cell_type": "code",
   "execution_count": null,
   "metadata": {
    "collapsed": false
   },
   "outputs": [],
   "source": [
    "maxstep=10\n",
    "x0=1.0\n",
    "steps,estimates=newton_raphson(x0,f,f_prime_ana,maxstep)\n",
    "\n",
    "errors=abs(log(pi)-estimates)\n",
    "\n",
    "println(\"The error values for the first 10 steps are\")\n",
    "println(errors)"
   ]
  },
  {
   "cell_type": "code",
   "execution_count": null,
   "metadata": {
    "collapsed": false
   },
   "outputs": [],
   "source": [
    "error_log=log2(errors[1:4])\n",
    "plot(steps[1:4],errors[1:4],linewidth=2,label=\"'Join the dots'\",xlabel=\"Iteration\",title=\"Error of the Newton Raphson Method\",yscale=:log2)\n",
    "scatter!(steps[1:4],errors[1:4],markersize=8,label=\"Error (Data points)\",ylims=(2.0^(-55),2.0^(-1)))"
   ]
  },
  {
   "cell_type": "markdown",
   "metadata": {},
   "source": [
    "We want to find the root at $\\log(\\pi)$ so we choose an inital value of $x_0=1.0$. The Newton Raphon algorithm finds the root extremely fast. Printing the error value for the first ten steps (see above), we see that the error is \"equal\" to zero after step 4.  We therefore only plot the first four datapoints. Plotting error against iteration on a log-linear plot we see that the curve decays faster than a linear function implying a superexponential error decay. "
   ]
  },
  {
   "cell_type": "markdown",
   "metadata": {},
   "source": [
    "## Question 3: Finding minima\n",
    "\n",
    "**1)** The function $f(x)$ above has a single minimum in the interval $0<x<2$. Find its location analytically.\n",
    "\n",
    "**2)** Implement the Golden section search to find the location of this minimum numerically. Plot the error as a function of the number of iterations. To how many digits of precision can you approximate the location of the minimum?\n",
    "\n",
    "**3)** To understand your empirical findings, use Taylor's Theorem to show that near a minimum, $x_*$, of f(x),\n",
    "\n",
    "$$f(x) \\approx f(x_*)\\left( 1+ \\frac{f^{\\prime\\prime}(x_*)}{2\\,f(x_*)}\\,(x-x_*)^2\\right). $$\n",
    "Show that in order for a computer to distinguish between $f(x)$ and $f(x_*)$ we must have\n",
    "\n",
    "$$ \\left| x-x_*\\right| > \\sqrt{\\epsilon_m}\\,\\sqrt{\\left|\\frac{2\\,f(x_*)}{f^{\\prime\\prime}(x_*)}\\right|}$$\n",
    "\n",
    "thus limiting the precision with which the location of a minimum can be determined."
   ]
  },
  {
   "cell_type": "markdown",
   "metadata": {},
   "source": [
    "1)\n",
    "\n",
    "We wish to find the extrema of $f(x)$ so set\n",
    "\n",
    "$$f'(x)=\\cos(\\exp(x))\\exp(x)=0$$\n",
    "\n",
    "So $\\exp(x)=(n+\\frac{1}{2})\\pi$ for integer $n$ or equivalently $x=\\log((n+\\frac{1}{2})\\pi)$. In the interval $x\\in [0,2]$ there are just two extrema:\n",
    "\n",
    "$$\n",
    "x=\\log(\\frac{\\pi}{2})\\qquad x=\\log(\\frac{3\\pi}{2})\n",
    "$$\n",
    "\n",
    "As the function $\\sin(x)$ is oscillatory and $\\exp(x)$ is monotonic increasing we know that the extrema of $f(x)$ will oscillate between ...-maximum-minimum-maximum-minimum...\n",
    "\n",
    "At $x=0$ the value of $\\exp(x)$ is $1<\\frac{\\pi}{2}$ (the first maximum of $\\sin(x)$) therefore the first extremum at $x=\\log(\\frac{\\pi}{2})$ is a maxima and the the extremum at $x=\\log(\\frac{3\\pi}{2})$ is the minimum required."
   ]
  },
  {
   "cell_type": "markdown",
   "metadata": {},
   "source": [
    "2) \n",
    "\n",
    "We implement the Golden section search to find the minimum $\\log(\\frac{3\\pi}{2})$ numerically. "
   ]
  },
  {
   "cell_type": "code",
   "execution_count": null,
   "metadata": {
    "collapsed": false
   },
   "outputs": [],
   "source": [
    "maxstep=50\n",
    "a=1.4\n",
    "c=1.6\n",
    "\n",
    "steps,estimates=golden_section(a,c,f,maxstep)\n",
    "\n",
    "ana=log(3*pi/2)\n",
    "error=abs(estimates-ana)\n",
    "plot(steps, error,linewidth=2,label=\"Error\",yscale=:log2,xlabel=\"Iteration\",title=\"Error of the Golden-Section Method\")"
   ]
  },
  {
   "cell_type": "markdown",
   "metadata": {},
   "source": [
    "Until float point operations cause rounding errors (say beyond iteration 35) the plot on a log-linear scale looks linear. This implies we have (for error $\\epsilon$ and iteration $i$):\n",
    "\n",
    "$$\n",
    "\\epsilon \\sim 2^{-\\alpha i}\n",
    "$$\n",
    "\n",
    "Lets find $\\alpha$ by fiting a line:"
   ]
  },
  {
   "cell_type": "code",
   "execution_count": null,
   "metadata": {
    "collapsed": false
   },
   "outputs": [],
   "source": [
    "log_error=log2(error[1:35])\n",
    "a,b=linreg(steps[1:35],log_error)\n",
    "\n",
    "plot(steps[1:35],error[1:35],linewidth=2,label=\"Error\")\n",
    "plot!(steps[1:35],2.^(b*steps[1:35]+a),linewidth=2,label=\"Best fit\",yscale=:log2,xlabel=\"Iteration\",title=\"Error of the Golden-Section Method\")"
   ]
  },
  {
   "cell_type": "markdown",
   "metadata": {},
   "source": [
    "The gradient on a log-linear (base 2) plot is "
   ]
  },
  {
   "cell_type": "code",
   "execution_count": null,
   "metadata": {
    "collapsed": false
   },
   "outputs": [],
   "source": [
    "println(b)"
   ]
  },
  {
   "cell_type": "markdown",
   "metadata": {},
   "source": [
    "Equivalently we may write \n",
    "\n",
    "$$\n",
    "\\epsilon \\sim \\phi^{-i}\n",
    "$$\n",
    "\n",
    "where $\\phi := 2^\\alpha$. We find that $\\phi$ is:"
   ]
  },
  {
   "cell_type": "code",
   "execution_count": null,
   "metadata": {
    "collapsed": false
   },
   "outputs": [],
   "source": [
    "2^abs(b)"
   ]
  },
  {
   "cell_type": "markdown",
   "metadata": {},
   "source": [
    "This is approximately equal to the value of the golden ratio:"
   ]
  },
  {
   "cell_type": "code",
   "execution_count": null,
   "metadata": {
    "collapsed": false
   },
   "outputs": [],
   "source": [
    "0.5*(1+sqrt(5))"
   ]
  },
  {
   "cell_type": "code",
   "execution_count": null,
   "metadata": {
    "collapsed": true
   },
   "outputs": [],
   "source": []
  }
 ],
 "metadata": {
  "anaconda-cloud": {},
  "kernelspec": {
   "display_name": "Julia 0.6.0",
   "language": "julia",
   "name": "julia-0.6"
  },
  "language_info": {
   "file_extension": ".jl",
   "mimetype": "application/julia",
   "name": "julia",
   "version": "0.6.0"
  }
 },
 "nbformat": 4,
 "nbformat_minor": 1
}
