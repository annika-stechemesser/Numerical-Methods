{
 "cells": [
  {
   "cell_type": "markdown",
   "metadata": {},
   "source": [
    "# MA934  Numerical Methods - Workbook 2"
   ]
  },
  {
   "cell_type": "code",
   "execution_count": 1,
   "metadata": {},
   "outputs": [
    {
     "data": {
      "text/plain": [
       "normal (generic function with 1 method)"
      ]
     },
     "execution_count": 1,
     "metadata": {},
     "output_type": "execute_result"
    }
   ],
   "source": [
    "using Plots\n",
    "font1 = Plots.font(\"Helvetica\", 12)\n",
    "pyplot(guidefont=font1, xtickfont=font1, ytickfont=font1, legendfont=font1)\n",
    "pyplot()\n",
    "using LaTeXStrings\n",
    "include(\"MODULES/kvpair.jl\")\n",
    "include(\"MODULES/llist.jl\")\n",
    "include(\"MODULES/ftree.jl\")\n",
    "include(\"MODULES/MyUtils_wb2.jl\")"
   ]
  },
  {
   "cell_type": "markdown",
   "metadata": {},
   "source": [
    "## Question 1: Linear search using a linked list\n",
    "\n",
    "The file KVPair.jl defines a simple data structure to represent an (Int64, Float64) key-value pair. \n",
    "\n",
    "The file LList.jl defines a linked list that stores a KVPair at each node. Many languages have a keyword NULL. A pointer to any object can take the value NULL to indicate that it doesn't point to anything. NULL is often used to denote the end of a list, the leaves of a tree etc. Julia does not support NULL pointers. This causes a difficulty in implementing recursive data structures. Instead Julia provides a parametric data type Nullable{T} to represent missing values. It is possible to use Nullable types to define recursive data structures although some of the resulting definitions are a bit clumsy. I'm not sure that this is the canonical way to implement structural recursion in Julia. \n",
    "\n",
    "The following points are important:\n",
    "\n",
    "* if a variable has type Nullable{T} then it can either contain a value of type T or nothing (ie a missing value). \n",
    "* the function isnull(x) checks whether a nullable type x has a value or not. \n",
    "* the function get(x) returns the actual value (of type T) contained in a nullable type x.\n",
    "\n",
    "Much more information can be found at https://docs.julialang.org/en/stable/manual/types/\n",
    "\n",
    "The function \n",
    "\n",
    "> buildLList(dataArray::Array{KVPair, 1})\n",
    "\n",
    "takes an array of KVPair objects as input and returns an LList containing these KVPairs. This is illustrated in the code below.\n",
    "\n",
    "1. Write a recursive function that traverses the list and prints out the key-value pairs stored in it. Check that your function works.\n",
    "2. Write a function search(list::Nullable{LList}, k::Int64) that searches an LList for the key k and returns the corresponding KVPair if it is present and a Nullable{KVPair} otherwise. Verify that your function works.\n",
    "3. Use Julia's @timed macro to measure how the typical computational cost of your search() function grows with the length of the list. "
   ]
  },
  {
   "cell_type": "markdown",
   "metadata": {},
   "source": [
    "#### Question 1 Part 1\n",
    "We first use the function \"create_KVPairs\" which takes the desired number of key value pairs as an input argument and outputs an array of KVPairs. The function \"buildLList\" then uses the array of KVPairs to build a list. The recursive function \"list_traverse\" takes a list as an input argument and prints the key of every key value pair. As the output is in ascending order, we know (due to the construction of the list) that the function is working correctly."
   ]
  },
  {
   "cell_type": "code",
   "execution_count": null,
   "metadata": {},
   "outputs": [],
   "source": [
    "values=create_KVPairs(20)\n",
    "L=buildLList(values);"
   ]
  },
  {
   "cell_type": "code",
   "execution_count": null,
   "metadata": {},
   "outputs": [],
   "source": [
    "function list_traverse(LList::Nullable{LList})  #the input needs to be of the type \"Nullable{LList}\"\n",
    "    L=LList\n",
    "    k=get(L).data  #k=key value pair of the list\n",
    "    k1=k.key       # k = key of the list \n",
    "    println(k1)    # print the key\n",
    "    L=get(L).next  # let L be the list that is stored in LList\n",
    "    if isnull(L)==false # if L is not null, we want to repeat the process (recursive function)\n",
    "         list_traverse(L)\n",
    "    end    \n",
    "    end;"
   ]
  },
  {
   "cell_type": "code",
   "execution_count": null,
   "metadata": {},
   "outputs": [],
   "source": [
    "list_traverse(L)"
   ]
  },
  {
   "cell_type": "markdown",
   "metadata": {},
   "source": [
    "#### Question 1 Part 2 \n",
    "The recursive function \"list_search\" takes a list and an integer as input values and returns the matching KVPair. The function \"working_search\", which takes the desired list length as an input argument, checks that the function \"list_search\" works correctly. A detailed description of how this function works is given in the file \"MODULES/MyUtils_wb2.jl\". "
   ]
  },
  {
   "cell_type": "code",
   "execution_count": null,
   "metadata": {},
   "outputs": [],
   "source": [
    "function list_search(LList::Nullable{LList}, a::Int64) #the input needs to be of the type \"Nullable{LList}\", \"Int64\"\n",
    "    L=LList\n",
    "    k=get(L).data #k=key value pair of the list\n",
    "    k1=k.key      # k1 = key of the list \n",
    "    if (k1 == a)  # if the key is the one we're looking for, return the key value pair k\n",
    "        return(k)\n",
    "    else\n",
    "        L=get(L).next # else update the list and repeat the process (recursive function)\n",
    "        list_search(L,a)    \n",
    "    end\n",
    "end"
   ]
  },
  {
   "cell_type": "code",
   "execution_count": null,
   "metadata": {},
   "outputs": [],
   "source": [
    "working_search(50)"
   ]
  },
  {
   "cell_type": "code",
   "execution_count": null,
   "metadata": {},
   "outputs": [],
   "source": [
    "function Cost_List_search(n)\n",
    "Time=zeros(n)\n",
    "        for i=1:n\n",
    "            Sub_time=zeros(i)\n",
    "            values=create_KVPairs(i)\n",
    "            L=buildLList(values)\n",
    "\n",
    "            for j=1:i\n",
    "            Sub_time[j]=(@timed list_search(L,j))[2]\n",
    "            end\n",
    "            Time[i]=mean(Sub_time)\n",
    "        end\n",
    "    return Time\n",
    "end"
   ]
  },
  {
   "cell_type": "code",
   "execution_count": null,
   "metadata": {},
   "outputs": [],
   "source": [
    "Cost_List_search(10)"
   ]
  },
  {
   "cell_type": "markdown",
   "metadata": {},
   "source": [
    "#### Question 1 Part 3\n",
    "Now we want to evaluate how the computational cost of the \"list_search\" function grows with the length of the list. To do that, we consider lists with 1 to 600 KVPairs. For each list length we search once for every possible key. We then take the mean of the needed times for these searches as y-value for the associated list length. "
   ]
  },
  {
   "cell_type": "code",
   "execution_count": null,
   "metadata": {
    "scrolled": true
   },
   "outputs": [],
   "source": [
    "n=600\n",
    "Time=Cost_List_search(n)\n",
    "\n",
    "x=1:1:n\n",
    "a,b=linreg(x,Time)\n",
    "println(\"The gradient of the best fit line is\")\n",
    "println(b)\n",
    "\n",
    "plot(x,Time*1e6, linewidth=2,label=\"Running time\",xlabel=\"List size\",ylabel=L\"Time in $\\mu s$\",title=\"Change of computational costs with growing list length\")\n",
    "plot!(x,(b*x+a)*1e6,linewidth=2,label=\"Best fit line\")"
   ]
  },
  {
   "cell_type": "markdown",
   "metadata": {},
   "source": [
    "We plot on a lin/lin plot and fit the best fit line. The plot shows that the computational cost of the list search grows linearly. "
   ]
  },
  {
   "cell_type": "markdown",
   "metadata": {},
   "source": [
    "## Question 2: Interval membership\n",
    "\n",
    "The problem of interval membership is the following: given a set of contiguous intervals, \n",
    "\n",
    "$\\left\\{[x_0, x_1), [x_1, x_2), \\ldots, [x_{n-2}, x_{n-1}), [x_{n-1}, x_n)\\right\\}$\n",
    "\n",
    "spanning the interval $[x_1, x_n)$ and given a random number $x \\in [x_1, x_n)$, determine the interval in which $x$ lies. The standard numerical algorithm for stochastic simulation of continuous-time Markov processes (eg birth-death process, contact process, SIR model etc) requires solving an interval membership problem at each time step. It is therefore important to be able to solve it efficiently. Note, we cannot assume that all intervals are the same length.\n",
    "\n",
    "We can solve the interval membership problem with $n$ interval by a variant of linear search in $O(n)$ time. We will demonstrate below that it can be solved in $O(\\log\\, n)$ time using a variant of a data structure known as a Fenwick tree.\n",
    "\n",
    "**1)** Use Julia's random number generator to generate $n$ random interval lengths, $y_1, y_2, \\ldots, y_n$ between 0 and 1 as shown: "
   ]
  },
  {
   "cell_type": "code",
   "execution_count": null,
   "metadata": {},
   "outputs": [],
   "source": [
    "# Set number of intervals\n",
    "n=10\n",
    "# Seed for random number generator. \n",
    "# You should choose your own seed so that everyone does not end up with the same random sequences\n",
    "seed = 1235 \n",
    "# Initialise the random number generator\n",
    "rng = MersenneTwister(seed)\n",
    "# Generate a sample of n uniform random numbers in the interval [0,1]\n",
    "X = rand(rng, n);"
   ]
  },
  {
   "cell_type": "markdown",
   "metadata": {},
   "source": [
    "The corresponding interval membership problem is constructed from the partial sums:\n",
    "$$x_i = \\sum_{j=1}^i y_j, \\ \\ \\ \\ \\ i=1,2,\\ldots n.$$ \n",
    "Using the objects defined in KVPair.jl and LList.jl, create an array of key-value pairs, $(i, x_i)$, associating each interval with the corresponding partial sum and store this array in a linked list. Print the list for a small value of $n$to verify that it works.\n",
    "\n",
    "**2)** Modify the search function you wrote above to write a recursive function\n",
    "\n",
    "$$\\text{intervalmembership(list::Nullable{LList}, x::Float64)}$$\n",
    "\n",
    "that takes the LList containing the list of partial sums and a random Float64 in the range $[0, x_n]$ as inputs and returns the KVPair corresponding to the interval in which $x$ lies. Verify that it works for small values of $n$ and use Julia's @timed macro to measure how the typical computational cost grows with $n$. \n",
    "\n",
    "**3)** The file FTree.jl defines a data structure implementing a variant of a Fenwick tree that can solve the interval membership problem as described in the lectures/notes. The function \n",
    "\n",
    "$$\\text{buildFTree(T::Nullable{FTree}, dataArray::Array{KVPair, 1})}$$\n",
    "\n",
    "takes the array of KVPairs containing the interval lengths as input, recursively constructs the tree and returns the FTree containing the correct key-value pairs (note a key of -1 is assigned to all non-leaf nodes)."
   ]
  },
  {
   "cell_type": "code",
   "execution_count": null,
   "metadata": {},
   "outputs": [],
   "source": [
    "n=5\n",
    "X = rand(rng, 5)\n",
    "# Now calculate the array of partial sums\n",
    "values = Array{KVPair}(5)\n",
    "for i in 1:n\n",
    "    values[i] = KVPair(i,X[i])\n",
    "end\n",
    "T = Nullable{FTree}(FTree(KVPair(0,0.0)))\n",
    "T=buildFTree(T, values)"
   ]
  },
  {
   "cell_type": "markdown",
   "metadata": {},
   "source": [
    "Write a recursive function\n",
    "\n",
    "$$\\text{intervalmembership(FT::Nullable{FTree}, x::Float64)}$$\n",
    "\n",
    "that takes the FTree containing the list of partial sums and a random Float64 in the range $[0, x_n]$ as \n",
    "inputs and returns the KVPair corresponding to the interval in which $x$ lies. Verify that it works for small values of $n$ and use Julia's @timed macro to compare how the typical computational compares to the above linear search version. Note it can sometimes be difficult to directly measure $O(\\log\\, n)$ growth in computation time since the problem size needs to become very large to register appreciable run times."
   ]
  },
  {
   "cell_type": "markdown",
   "metadata": {},
   "source": [
    "#### Question 2 Part 1 \n",
    "The function \"create_KVPairs_partial_sums\" takes the desired number of intervals as input argument. It then generates a random array X of length n and calculates the value of key value pair i as the cumulative sum of the first i entries of the array X. We then use the function \"buildLList\" to turn the generated array into a list."
   ]
  },
  {
   "cell_type": "code",
   "execution_count": null,
   "metadata": {},
   "outputs": [],
   "source": [
    "function create_KVPairs_partial_sums(n)#desired number of intervals\n",
    "    seed = 1235 \n",
    "    rng = MersenneTwister(seed)\n",
    "    X = rand(rng, n)                    #random array of length n\n",
    "    values = Array{KVPair}(n)           #empty array with n KVPairs\n",
    "    for i in 1:n                     \n",
    "        x=sum(X[1:i])                   #compute the cumulative sum of the first i values of X\n",
    "        values[i]=KVPair(i,x)           # define the KV pair\n",
    "    end\n",
    "    return values                       #return the array of KVPairs\n",
    "end;"
   ]
  },
  {
   "cell_type": "code",
   "execution_count": null,
   "metadata": {},
   "outputs": [],
   "source": [
    "values=create_KVPairs_partial_sums(5)\n",
    "L=buildLList(values)"
   ]
  },
  {
   "cell_type": "markdown",
   "metadata": {},
   "source": [
    "To check that the function works, we print the values of the list and the cumulative sums of the random array X for a small value of n (n=5). We see that the function is working correctly."
   ]
  },
  {
   "cell_type": "code",
   "execution_count": null,
   "metadata": {},
   "outputs": [],
   "source": [
    "for i=1:length(values)\n",
    "   println(list_search(L,i).value)\n",
    "    println(values[i].value) \n",
    "end"
   ]
  },
  {
   "cell_type": "markdown",
   "metadata": {},
   "source": [
    "#### Question 2 Part 2 \n",
    "We introduce the recursive function \"intervalmembership\" that takes a list and a Float64 as input arguments. We then compare x to the value of the key value pair at the top of the list. If the input value x (Float64) is smaller than the value of the key value, the value x is in the corresponing interval and the search is finished. Else we move to the next element of the list and repeat the search. We check for a small value of n (n=10) that the function works."
   ]
  },
  {
   "cell_type": "code",
   "execution_count": null,
   "metadata": {},
   "outputs": [],
   "source": [
    "function intervalmembership(list::Nullable{LList},x::Float64) #The input has to be a Nullable{LList} and a Float64\n",
    "    L=list\n",
    "    k=get(L).data   #k is the key value pair at the top of the list (corresponding to the first interval)\n",
    "    k2=k.value      #k2 is the upper interval border\n",
    "    if (x < k2)     #if x is smaller than the interval border, it is in the interval, return the corresponding KVPair\n",
    "        return(k)  \n",
    "        else        #if the x is not smaller than the upper interval border, it has to be in one of the higher intervals \n",
    "        L=get(L).next #update the list to the next interval\n",
    "        intervalmembership(L,x) #repeat the process (recursively)\n",
    "        \n",
    "    end\n",
    "end;"
   ]
  },
  {
   "cell_type": "code",
   "execution_count": null,
   "metadata": {},
   "outputs": [],
   "source": [
    "create_KVPairs_partial_sums(n)  #create the KVPairs that contain (interval index, upper boundary)\n",
    "x=rand()*values[10].value       #create a random value in the right range\n",
    "println(x)                      \n",
    "println(intervalmembership(L,x)) # use the function interval membership, print the returned KVPair\n",
    "println(values)                  # print the list of KVPairs to manually check if the function works correctly"
   ]
  },
  {
   "cell_type": "markdown",
   "metadata": {},
   "source": [
    "Finally, we want to explore how the computational effort increases with the length of the list. We fix the maximal list length n and the number of repetitions per list length m. For every list length between one and 600 we use the function \"create_KVPairs_partial_sums\" and the function \"buildLList\" to generate a random list, create a number in the correct range and use the function \"intervalmembership\". We then repeat this process m times for each intervall length and measure the time at each iteration. We take the mean of all iterations and assign it as a y-value to the corresponding list length. "
   ]
  },
  {
   "cell_type": "code",
   "execution_count": null,
   "metadata": {},
   "outputs": [],
   "source": [
    "n=600\n",
    "m=10\n",
    "Time=Cost_lin_interval(n,m)\n",
    "x=1:1:n\n",
    "a,b=linreg(x,Time)\n",
    "println(\"The gradient of the best fit line is\")\n",
    "println(b)\n",
    "plot(x,Time*1e6, linewidth=2, label=\"Running time\",xlabel=\"List size\",ylabel=L\"Time in $\\mu s$\",title=\"Change of computational costs with growing list length\")\n",
    "plot!(x,(b*x+a)*1e6,linewidth=2,label=\"Best fit line\")"
   ]
  },
  {
   "cell_type": "markdown",
   "metadata": {},
   "source": [
    "We plot on a lin/lin plot and fit the best fit line. The plot shows that the computational cost of the list search grows linearly. "
   ]
  },
  {
   "cell_type": "markdown",
   "metadata": {},
   "source": [
    "#### Question 2 Part 3\n",
    "We use the function \"buildFTree\" to turn a list in a fenwick tree. We want to use the fenwick tree to solve the interval membership problem. To do that we implement the fast search algorithm as a function \"intervalmembership_tree\". It gives back the intervalmembership of a value x which is drawn from the correct range.  "
   ]
  },
  {
   "cell_type": "code",
   "execution_count": null,
   "metadata": {},
   "outputs": [],
   "source": [
    "function intervalmembership_tree(FT::Nullable{FTree},x::Float64) #the input needs to be of the type \"Nullable{LList}\", \"Int64\" \n",
    "    l=get(FT).left                            #let l be the left subtree\n",
    "    r=get(FT).right                           #let r be the right subtree\n",
    "    k=get(FT).data                            #let k be the stored KVPair\n",
    "    if (isnull(l)==true && isnull(r)==true)   #if both subtrees are empty, we are in a leaf and found the interval\n",
    "        return(k)                                             \n",
    "        elseif (isnull(l) ==false && x<get(l).data.value) #if the leftsubtree is not empty and x is smaller than the key value stored there go left\n",
    "            intervalmembership_tree(l,x)      #repeat the process with the left subtree\n",
    "        elseif (isnull(r)==false)             # if the rightsubtree is not empty and we're not in one of the previous cases\n",
    "            x=x-get(l).data.value             #update x to be x-key value of the left subtree  \n",
    "            intervalmembership_tree(r,x)      #repeat the process with the right subtree\n",
    "    end\n",
    "end"
   ]
  },
  {
   "cell_type": "markdown",
   "metadata": {},
   "source": [
    "We build a fenwick tree and check for a small value of n (n=10) that the function works, using the function \"intervallmembership\" we defined above."
   ]
  },
  {
   "cell_type": "code",
   "execution_count": null,
   "metadata": {},
   "outputs": [],
   "source": [
    "lists=create_list_sumlist(10)\n",
    "L=buildLList(lists[2])\n",
    "T = Nullable{FTree}(FTree(KVPair(0,0.0)))\n",
    "T=buildFTree(T, lists[1])\n",
    "C=lists[2]\n",
    "\n",
    "## check 5 times \n",
    "\n",
    "for i=1:5\n",
    "    y=rand()*C[i].value\n",
    "    println(y)\n",
    "    println(intervalmembership(L,y))\n",
    "    println(intervalmembership_tree(T,y))\n",
    "end "
   ]
  },
  {
   "cell_type": "markdown",
   "metadata": {},
   "source": [
    "As the interval indices match for both methods for small n we know that the function works correctly. We now want to find out how the computational effort of the fenwick tree method for solving the interval problem changes when we increase the size of the input list (and therefore the size of the tree). We again fix a maximal list size n and a number of repetitions per list size m. We fix a list size, generate a tree, pick a random number from the correct range and compute the needed time for every iteration. We then take the mean of the needed running times and assign it as the y-value for the associated list size."
   ]
  },
  {
   "cell_type": "code",
   "execution_count": 9,
   "metadata": {},
   "outputs": [
    {
     "data": {
      "text/html": [
       "<img src=\"data:image/png;base64,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\" />"
      ]
     },
     "execution_count": 9,
     "metadata": {},
     "output_type": "execute_result"
    }
   ],
   "source": [
    "# n=600\n",
    "m=100\n",
    "x=0:1:10\n",
    "x=2.^(x)\n",
    "Time,Std=Cost_tree_interval(x,m)\n",
    "a,b=linreg(log2(x),Time*1e6)\n",
    "scatter(x,Time*1e6,yerr=Std*1e6, linewidth=2, label=\"Running time\",xlabel=\"list size\",ylabel=L\"time in $\\mu$s\",xscale=:log2,markersize=7)\n",
    "plot!(x,(b*log2(x)+a),linewidth=2,label=\"Best fit line\")"
   ]
  },
  {
   "cell_type": "code",
   "execution_count": null,
   "metadata": {},
   "outputs": [],
   "source": [
    "x"
   ]
  },
  {
   "cell_type": "markdown",
   "metadata": {},
   "source": [
    "We're choosing to look at a lin/log plot to get a clearer picture of the function. It suggests that the computational effort increases logarithmically. The spikes seen in the plot are due to the randomness in the choise of the lists and desired values. For big list sizes, the second method is much faster than the first one. To emphasize this, we run both methods at the same time and instead of plotting the individual running times of both we plot the difference of the running times."
   ]
  },
  {
   "cell_type": "code",
   "execution_count": null,
   "metadata": {},
   "outputs": [],
   "source": [
    "n=600\n",
    "m=50\n",
    "Time=zeros(n)\n",
    "for i=1:n\n",
    "    Sub_time=zeros(m)\n",
    "    Sub_time_tree=zeros(m)\n",
    "    for j=1:m\n",
    "        lists=create_list_sumlist(i)\n",
    "        L=buildLList(lists[2])\n",
    "        T = Nullable{FTree}(FTree(KVPair(0,0.0)))\n",
    "        T=buildFTree(T, lists[1])\n",
    "        C=lists[2]\n",
    "        y=rand()*C[i].value\n",
    "    \n",
    "        Sub_time[j]= (@timed intervalmembership(L,y);)[2]\n",
    "        Sub_time_tree[j]=(@timed intervalmembership_tree(T,y);)[2]\n",
    "    end\n",
    "    Time[i]=mean(Sub_time)-mean(Sub_time_tree)\n",
    "end\n",
    "\n",
    "x=1:1:n\n",
    "plot(x,Time*1e6, linewidth=2, label=\"Time difference\",xlabel=\"list size\",ylabel=L\"Time difference in $\\mu s$\")"
   ]
  },
  {
   "cell_type": "markdown",
   "metadata": {},
   "source": [
    "The time difference is growing linearly, therefore the second method is much faster than the first one. "
   ]
  },
  {
   "cell_type": "markdown",
   "metadata": {},
   "source": [
    "## Question 3: Gillespie algorithm for heterogeneous diffusion\n",
    "\n",
    "The Gillespie algorithm is a dynamic Monte Carlo algorithm that generates statistically correct realisations of a continous time Markov process. See https://en.wikipedia.org/wiki/Gillespie_algorithm It is used heavily in stochastic simulation of chemical and biological reaction networks and population dynamics. In this question we use it to simulate one-dimensional diffusion of heterogeneous particles whose diffusion constants are independently drawn from an exponential distribution.\n",
    "\n",
    "The basic idea of the algorithm is as follows\n",
    "1. Create a list $\\left\\{(i, r_i), i=1,\\ldots M\\right\\}$,  of all possible transitions (events), $i$, that can occur in the system and the corresponding transition rates, $r_i$.\n",
    "2. Calculate the total rate\n",
    "$$R = \\sum_{i=1}^M r_i$$\n",
    "and divide the interval $[0, R]$ into $M$ intervals whose lengths are given by the $r_i$.\n",
    "3. Generate a uniform random number in the range $[0,R]$ and determine which interval it falls in. \n",
    "4. Perform the corresponding transition and update the time variable by an amount $\\Delta t = 1/R$.\n",
    "5. Repeat until the desired simulation time is reached.\n",
    "\n",
    "To be concrete, suppose with have $N$ particles on the interval $[-L, L]$ initially located at $x=0$. Each particle can hop a distance $\\Delta x$ to the left or to the right with equal probability. The rate of hopping is initially considered to be the same for all particles:\n",
    "\n",
    "$$ r_i = \\frac{D}{2}\\,\\frac{1}{(\\Delta x)^2} $$\n",
    "\n",
    "This choice ensures that in the continous limit ($\\Delta x \\to 0$, $N\\to \\infty$), the density of particles $c(x,t)$ on the line will satisfy the usual diffusion equation with diffusion coefficient $D$ (recall MA933):\n",
    "\n",
    "$$ \\frac{\\partial c}{\\partial t} = D \\frac{\\partial^2 c}{\\partial x^2}$$\n",
    "\n",
    "with initial condition $c(x,0) = \\delta(x)$.\n",
    "\n",
    "The steps of the algorithm then correspond to the following:\n",
    "1. There are $M= 2 N$ possible transitions at each step: each of $N$ particles can hop a distance $\\Delta x$ either left or right with the above rates. We index them as follows: events k=1:N correspond to particle k hopping to the right, events k=N+1:2N correspond to particle k-N hopping to the left.\n",
    "2. The total rate is \n",
    "$$ R = \\frac{D N}{(\\Delta x)^2}.$$\n",
    "3. Generate a uniform random number in the range $[0,R]$ and determine the index $k$ of particle to move and the direction.\n",
    "4. Update the position of particle $k$ accordingly.\n",
    "5. Repeat.\n",
    "\n",
    "The following piece of code implements the Gillespie algorithm for N=100, L=10, $\\Delta x = 0.1$ and $D=1$, converts the particle positions to particle density and compares to the solution of the diffusion equation on an unbounded domain at t=1 (we assume that L=10 is far enough from zero to be considered unbounded):\n",
    "\n",
    "$$c(x, t) = \\frac{1}{\\sqrt{2 \\pi D t}}\\, \\exp [-\\frac{1}{2}\\frac{x^2}{D t} ]$$"
   ]
  },
  {
   "cell_type": "code",
   "execution_count": null,
   "metadata": {},
   "outputs": [],
   "source": [
    "L=10.0\n",
    "N=100\n",
    "Nx = 201\n",
    "dx = 2.0*L/(Nx-1)\n",
    "X = dx.*(-(Nx-1)/2:(Nx-1)/2)\n",
    "Y =zeros(Int64,N)\n",
    "D = 1.0\n",
    "t=0.0\n",
    "\n",
    "\n",
    "r = (D/2.0)/(dx*dx)\n",
    "totalRate = 2.0*N*r\n",
    "dt = 1.0/totalRate\n",
    "T=1.0\n",
    "\n",
    "# This is the main loop\n",
    "while t < T\n",
    "    # Pick an event\n",
    "    k = rand(1:2*N)\n",
    "    if k<=N\n",
    "        hop = 1\n",
    "        particleId = k\n",
    "    else\n",
    "        hop = -1\n",
    "        particleId=k-N\n",
    "    end\n",
    "    Y[particleId]+=hop\n",
    "    t+=dt\n",
    "end\n",
    "\n",
    "# Calculate the estimated density of particles\n",
    "P =zeros(Float64,length(X))\n",
    "for i in 1:length(Y)\n",
    "    P[Y[i]+Int64((Nx-1)/2)+1]+=1/(N * dx)\n",
    "end\n",
    "\n",
    "# Calculate the theoretical density and compare\n",
    "function normal(x, D, t)\n",
    "    return (1.0/sqrt(2.0*pi*D*t))*exp(-x*x/(2*D*t))\n",
    "end\n",
    "P1 = normal.(X, D, T)\n",
    "plot(X, P1, label=\"Analytic solution of diffusion equation\",linewidth=2)\n",
    "plot!(X, P, label=\"Numerical estimate of particle density\",linewidth=2)\n",
    "xlabel!(\"x\")\n",
    "ylabel!(\"Particle density, c(x,t)\")\n",
    "title!(\"Stochastic simulation of simple diffusion in 1-D\")"
   ]
  },
  {
   "cell_type": "markdown",
   "metadata": {},
   "source": [
    "**1)** The code above makes critical use of the fact that all intervals have the same width in order to decide which particle to move at each step. Suppose now that instead of being equal to $D$ for each particle, the diffusion coefficients are drawn from an exponential distribution with mean $D$:\n",
    "\n",
    "$$ P(x) = \\frac{1}{D} \\exp\\left(-\\frac{x}{D}\\right). $$\n",
    "\n",
    "Modify the code to account for this, using your code from Q2 above to solve the interval membership problem using linear search. You will need to use Julia's randexp() function to generate values for the diffusion coefficients. What is the largest value of $N$ you can simulate in a \"reasonable\" time?\n",
    "\n",
    "**2)** Try again using your Fenwick tree from Q2 to solve the interval membership problem and compare. What is the largest value of $N$ you can simulate now?\n",
    "\n",
    "**3)** Show analytically that the solution of the heterogenous diffusion problem is\n",
    "\n",
    "$$ c(x,t) = \\frac{\\exp \\left(-\\sqrt{\\frac{2}{D\\,t}}\\, |x| \\right)}{\\sqrt{2\\, D\\, t}}$$\n",
    "\n",
    "You will probably need the integral formula (Formula 3.325 of Gradshteyn and Rizhik, 7th Ed.)\n",
    "\n",
    "$$ \\int_0^\\infty \\exp\\left(-a\\,x^2 - \\frac{b}{x^2} \\right)\\, dx =  \\frac{1}{2}\\,\\sqrt{\\frac{\\pi}{a}}\\,\\exp\\left(-2 \\sqrt{a\\,b} \\right).$$\n",
    "Use this formula to validate your numerical results.\n",
    "\n"
   ]
  },
  {
   "cell_type": "markdown",
   "metadata": {},
   "source": [
    "1. We consider the model from above but assume that the rates are drawn from an exponential distribution with mean D. We modify the algorithm with account to that. If we pick an event, in order to find out in which way we hop, we need to solve an interval membership problem. To do that, we first use the linear search defined above. "
   ]
  },
  {
   "cell_type": "code",
   "execution_count": null,
   "metadata": {
    "scrolled": true
   },
   "outputs": [],
   "source": [
    "D=1.0\n",
    "T=1.0\n",
    "X,P=particle_linear(1000)\n",
    "P1 = normal(X, D, T)\n",
    "plot(X, P1, label=\"Analytic solution of diffusion equation\",linewidth=2)\n",
    "plot!(X, P, label=\"Numerical estimate of particle density\",xlim=(-5,5),linewidth=2)\n",
    "xlabel!(\"x\")\n",
    "ylabel!(\"Particle density, c(x,t)\")\n",
    "title!(\"Stochastic simulation of simple diffusion in 1-D\")"
   ]
  },
  {
   "cell_type": "markdown",
   "metadata": {},
   "source": [
    "In order to measure the computational effort we embedd our process in the function \"particle_linear\", which takes N (number of particles) as an input argument. We want to see how our computational effort changes if we increase the particle number of particles."
   ]
  },
  {
   "cell_type": "code",
   "execution_count": null,
   "metadata": {},
   "outputs": [],
   "source": [
    "s=4\n",
    "Time=zeros(s)\n",
    "x=logspace(1,s,s)\n",
    "counter=1\n",
    "for i in x\n",
    "    Time[counter] = (@timed  particle_linear(Int(i)))[2]\n",
    "    counter=counter+1\n",
    "end \n",
    "scatter(x,Time,markersize=8,label=\"Running time\",xlabel=\"list size\",ylabel=\"time in seconds\",xscale=:log10,yscale=:log10,xlim=(10^0.5,10^(s+0.5)),ylim=(10^(-5.5),10^1.5))"
   ]
  },
  {
   "cell_type": "code",
   "execution_count": null,
   "metadata": {},
   "outputs": [],
   "source": [
    "function particle_tree(N)\n",
    "    L=10.0\n",
    "    N=1000\n",
    "    Nx = 201\n",
    "    dx = 2.0*L/(Nx-1)\n",
    "    X = dx.*(-(Nx-1)/2:(Nx-1)/2)\n",
    "    Y =zeros(Int64,N)\n",
    "    D = 1.0\n",
    "    t=0.0\n",
    "\n",
    "    #draw the rates from an exponential distribution\n",
    "    Rates=zeros(2*N)\n",
    "    Rates[1:N]=randexp(N)*D\n",
    "    Rates[N+1:2N]=Rates[1:N]\n",
    "    Rates=Rates.*(1/2(dx*dx))\n",
    "    #calculate the total rate\n",
    "    totalRate=sum(Rates)\n",
    "    #scale the time \n",
    "    dt = 1.0/totalRate\n",
    "\n",
    "    KV_Rates_tree=Array{KVPair}(2*N)\n",
    "\n",
    "    for i=1:2*N\n",
    "        x=Rates[i]\n",
    "        KV_Rates_tree[i]=KVPair(i,x)\n",
    "    end\n",
    "    Tree = Nullable{FTree}(FTree(KVPair(0,0.0)))\n",
    "    Tree=buildFTree(Tree, KV_Rates_tree)\n",
    "\n",
    "    # particle=rand()*totalRate\n",
    "\n",
    "    # intervalmembership(Rates_list,particle)\n",
    "\n",
    "\n",
    "    T=1.0\n",
    "\n",
    "    #This is the main loop\n",
    "    while t < T\n",
    "    #     # Pick an event\n",
    "        k = rand()*totalRate\n",
    "        interval=intervalmembership_tree(Tree,k)\n",
    "          interval=interval.key\n",
    "        if interval<=N\n",
    "            hop = 1\n",
    "            particleId = interval\n",
    "        else\n",
    "            hop = -1\n",
    "            particleId=interval-N\n",
    "        end\n",
    "        Y[particleId]+=hop\n",
    "        t+=dt\n",
    "    end\n",
    "\n",
    "    #Calculate the estimated density of particles\n",
    "    P =zeros(Float64,length(X))\n",
    "    for i in 1:length(Y)\n",
    "        P[Y[i]+Int64((Nx-1)/2)+1]+=1/(N * dx)\n",
    "    end\n",
    "    return X,P\n",
    "end\n"
   ]
  },
  {
   "cell_type": "code",
   "execution_count": null,
   "metadata": {},
   "outputs": [],
   "source": [
    "particle_tree(1000)"
   ]
  },
  {
   "cell_type": "code",
   "execution_count": null,
   "metadata": {},
   "outputs": [],
   "source": [
    "D=1.0\n",
    "T=1.0\n",
    "X,P=particle_tree(100000)\n",
    "P1 = normal(X, D, T)\n",
    "plot(X, P1, label=\"Analytic solution of diffusion equation\",linewidth=3)\n",
    "plot!(X, P, label=\"Numerical estimate of particle density\",linewidth=2)\n",
    "xlabel!(\"x\")\n",
    "ylabel!(\"Particle density, c(x,t)\")\n",
    "title!(\"Stochastic simulation of simple diffusion in 1-D\")"
   ]
  },
  {
   "cell_type": "code",
   "execution_count": null,
   "metadata": {},
   "outputs": [],
   "source": [
    "s=18\n",
    "Time=zeros(s)\n",
    "x=logspace(1,s,s)\n",
    "counter=1\n",
    "for i in x\n",
    "    Time[counter] = (@timed  particle_tree(Int(i)))[2]\n",
    "    counter=counter+1\n",
    "end \n",
    "scatter(x,Time,markersize=8,label=\"Running time\",xlabel=\"list size\",ylabel=\"time in seconds\",xscale=:log10,yscale=:log10,xlim=(10^0.5,10^(s+0.5)),ylim=(10^(-5.5),10^1.5))"
   ]
  },
  {
   "cell_type": "code",
   "execution_count": null,
   "metadata": {},
   "outputs": [],
   "source": [
    "## compare\n",
    "\n",
    "a=@timed(particle_crap())[2]\n",
    "b=@timed(particle_crap_tree())[2]\n",
    "println(a-b)"
   ]
  }
 ],
 "metadata": {
  "kernelspec": {
   "display_name": "Julia 0.5.2",
   "language": "julia",
   "name": "julia-0.5"
  },
  "language_info": {
   "file_extension": ".jl",
   "mimetype": "application/julia",
   "name": "julia",
   "version": "0.5.2"
  }
 },
 "nbformat": 4,
 "nbformat_minor": 1
}
