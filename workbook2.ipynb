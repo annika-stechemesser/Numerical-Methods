{
 "cells": [
  {
   "cell_type": "markdown",
   "metadata": {},
   "source": [
    "# MA934  Numerical Methods - Workbook 2"
   ]
  },
  {
   "cell_type": "code",
   "execution_count": 3,
   "metadata": {},
   "outputs": [
    {
     "name": "stderr",
     "output_type": "stream",
     "text": [
      "WARNING: Method definition Cost_List_search(Any) in module Main at In[1]:2 overwritten at /home/annika/Numerical_Methods/MODULES/MyUtils_wb2.jl:66.\n"
     ]
    },
    {
     "data": {
      "text/plain": [
       "normal (generic function with 1 method)"
      ]
     },
     "execution_count": 3,
     "metadata": {},
     "output_type": "execute_result"
    }
   ],
   "source": [
    "using Plots\n",
    "font1 = Plots.font(\"Helvetica\", 12)\n",
    "pyplot(guidefont=font1, xtickfont=font1, ytickfont=font1, legendfont=font1)\n",
    "pyplot()\n",
    "using LaTeXStrings\n",
    "include(\"MODULES/kvpair.jl\")\n",
    "include(\"MODULES/llist.jl\")\n",
    "include(\"MODULES/ftree.jl\")\n",
    "include(\"MODULES/MyUtils_wb2.jl\")"
   ]
  },
  {
   "cell_type": "markdown",
   "metadata": {},
   "source": [
    "## Question 1: Linear search using a linked list\n",
    "\n",
    "The file KVPair.jl defines a simple data structure to represent an (Int64, Float64) key-value pair. \n",
    "\n",
    "The file LList.jl defines a linked list that stores a KVPair at each node. Many languages have a keyword NULL. A pointer to any object can take the value NULL to indicate that it doesn't point to anything. NULL is often used to denote the end of a list, the leaves of a tree etc. Julia does not support NULL pointers. This causes a difficulty in implementing recursive data structures. Instead Julia provides a parametric data type Nullable{T} to represent missing values. It is possible to use Nullable types to define recursive data structures although some of the resulting definitions are a bit clumsy. I'm not sure that this is the canonical way to implement structural recursion in Julia. \n",
    "\n",
    "The following points are important:\n",
    "\n",
    "* if a variable has type Nullable{T} then it can either contain a value of type T or nothing (ie a missing value). \n",
    "* the function isnull(x) checks whether a nullable type x has a value or not. \n",
    "* the function get(x) returns the actual value (of type T) contained in a nullable type x.\n",
    "\n",
    "Much more information can be found at https://docs.julialang.org/en/stable/manual/types/\n",
    "\n",
    "The function \n",
    "\n",
    "> buildLList(dataArray::Array{KVPair, 1})\n",
    "\n",
    "takes an array of KVPair objects as input and returns an LList containing these KVPairs. This is illustrated in the code below.\n",
    "\n",
    "1. Write a recursive function that traverses the list and prints out the key-value pairs stored in it. Check that your function works.\n",
    "2. Write a function search(list::Nullable{LList}, k::Int64) that searches an LList for the key k and returns the corresponding KVPair if it is present and a Nullable{KVPair} otherwise. Verify that your function works.\n",
    "3. Use Julia's @timed macro to measure how the typical computational cost of your search() function grows with the length of the list. "
   ]
  },
  {
   "cell_type": "markdown",
   "metadata": {},
   "source": [
    "#### Question 1 Part 1\n",
    "We first use the function \"create_KVPairs\" which takes the desired number of key value pairs as an input argument and outputs an array of KVPairs. The function \"buildLList\" then uses the array of KVPairs to build a list. The recursive function \"list_traverse\" takes a list as an input argument and prints the key of every key value pair. As the output is in ascending order, we know (due to the construction of the list) that the function is working correctly."
   ]
  },
  {
   "cell_type": "code",
   "execution_count": null,
   "metadata": {},
   "outputs": [],
   "source": [
    "values=create_KVPairs(20)\n",
    "L=buildLList(values);"
   ]
  },
  {
   "cell_type": "code",
   "execution_count": null,
   "metadata": {},
   "outputs": [],
   "source": [
    "function list_traverse(LList::Nullable{LList})  #the input needs to be of the type \"Nullable{LList}\"\n",
    "    L=LList\n",
    "    k=get(L).data  #k=key value pair of the list\n",
    "    k1=k.key       # k = key of the list \n",
    "    println(k1)    # print the key\n",
    "    L=get(L).next  # let L be the list that is stored in LList\n",
    "    if isnull(L)==false # if L is not null, we want to repeat the process (recursive function)\n",
    "         list_traverse(L)\n",
    "    end    \n",
    "    end;"
   ]
  },
  {
   "cell_type": "code",
   "execution_count": null,
   "metadata": {},
   "outputs": [],
   "source": [
    "list_traverse(L)"
   ]
  },
  {
   "cell_type": "markdown",
   "metadata": {},
   "source": [
    "#### Question 1 Part 2 \n",
    "The recursive function \"list_search\" takes a list and an integer as input values and returns the matching KVPair. The function \"working_search\", which takes the desired list length as an input argument, checks that the function \"list_search\" works correctly. A detailed description of how this function works is given in the file \"MODULES/MyUtils_wb2.jl\". "
   ]
  },
  {
   "cell_type": "code",
   "execution_count": null,
   "metadata": {},
   "outputs": [],
   "source": [
    "function list_search(LList::Nullable{LList}, a::Int64) #the input needs to be of the type \"Nullable{LList}\", \"Int64\"\n",
    "    L=LList\n",
    "    k=get(L).data #k=key value pair of the list\n",
    "    k1=k.key      # k1 = key of the list \n",
    "    if (k1 == a)  # if the key is the one we're looking for, return the key value pair k\n",
    "        return(k)\n",
    "    else\n",
    "        L=get(L).next # else update the list and repeat the process (recursive function)\n",
    "        list_search(L,a)    \n",
    "    end\n",
    "end"
   ]
  },
  {
   "cell_type": "code",
   "execution_count": null,
   "metadata": {},
   "outputs": [],
   "source": [
    "working_search(50)"
   ]
  },
  {
   "cell_type": "code",
   "execution_count": 1,
   "metadata": {},
   "outputs": [
    {
     "data": {
      "text/plain": [
       "Cost_List_search (generic function with 1 method)"
      ]
     },
     "execution_count": 1,
     "metadata": {},
     "output_type": "execute_result"
    }
   ],
   "source": [
    "function Cost_List_search(n)\n",
    "Time=zeros(n)\n",
    "        for i=1:n\n",
    "            Sub_time=zeros(i)\n",
    "            values=create_KVPairs(i)\n",
    "            L=buildLList(values)\n",
    "\n",
    "            for j=1:i\n",
    "            Sub_time[j]=(@timed list_search(L,j))[2]\n",
    "            end\n",
    "            Time[i]=mean(Sub_time)\n",
    "        end\n",
    "    return Time\n",
    "end"
   ]
  },
  {
   "cell_type": "code",
   "execution_count": 2,
   "metadata": {},
   "outputs": [
    {
     "ename": "LoadError",
     "evalue": "UndefVarError: create_KVPairs not defined",
     "output_type": "error",
     "traceback": [
      "UndefVarError: create_KVPairs not defined",
      "",
      " in Cost_List_search(::Int64) at ./In[1]:5",
      " in include_string(::String, ::String) at ./loading.jl:441"
     ]
    }
   ],
   "source": [
    "Cost_List_search(10)"
   ]
  },
  {
   "cell_type": "markdown",
   "metadata": {},
   "source": [
    "#### Question 1 Part 3\n",
    "Now we want to evaluate how the computational cost of the \"list_search\" function grows with the length of the list. To do that, we consider lists with 1 to 600 KVPairs. For each list length we search once for every possible key. We then take the mean of the needed times for these searches as y-value for the associated list length. "
   ]
  },
  {
   "cell_type": "code",
   "execution_count": 49,
   "metadata": {
    "scrolled": true
   },
   "outputs": [
    {
     "name": "stdout",
     "output_type": "stream",
     "text": [
      "The gradient of the best fit line is\n",
      "1.1063724527483444e-8\n"
     ]
    },
    {
     "data": {
      "text/html": [
       "<img src=\"data:image/png;base64,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\" />"
      ]
     },
     "execution_count": 49,
     "metadata": {},
     "output_type": "execute_result"
    }
   ],
   "source": [
    "n=600\n",
    "Time=Cost_List_search(n)\n",
    "\n",
    "x=1:1:n\n",
    "a,b=linreg(x,Time)\n",
    "println(\"The gradient of the best fit line is\")\n",
    "println(b)\n",
    "\n",
    "plot(x,Time*1e6, linewidth=2,label=\"Running time\",xlabel=\"List size\",ylabel=L\"Time in $\\mu s$\",title=\"Change of computational costs with growing list length\")\n",
    "plot!(x,(b*x+a)*1e6,linewidth=2,label=\"Best fit line\")"
   ]
  },
  {
   "cell_type": "markdown",
   "metadata": {},
   "source": [
    "We plot on a lin/lin plot and fit the best fit line. The plot shows that the computational cost of the list search grows linearly. "
   ]
  },
  {
   "cell_type": "markdown",
   "metadata": {},
   "source": [
    "## Question 2: Interval membership\n",
    "\n",
    "The problem of interval membership is the following: given a set of contiguous intervals, \n",
    "\n",
    "$\\left\\{[x_0, x_1), [x_1, x_2), \\ldots, [x_{n-2}, x_{n-1}), [x_{n-1}, x_n)\\right\\}$\n",
    "\n",
    "spanning the interval $[x_1, x_n)$ and given a random number $x \\in [x_1, x_n)$, determine the interval in which $x$ lies. The standard numerical algorithm for stochastic simulation of continuous-time Markov processes (eg birth-death process, contact process, SIR model etc) requires solving an interval membership problem at each time step. It is therefore important to be able to solve it efficiently. Note, we cannot assume that all intervals are the same length.\n",
    "\n",
    "We can solve the interval membership problem with $n$ interval by a variant of linear search in $O(n)$ time. We will demonstrate below that it can be solved in $O(\\log\\, n)$ time using a variant of a data structure known as a Fenwick tree.\n",
    "\n",
    "**1)** Use Julia's random number generator to generate $n$ random interval lengths, $y_1, y_2, \\ldots, y_n$ between 0 and 1 as shown: "
   ]
  },
  {
   "cell_type": "code",
   "execution_count": null,
   "metadata": {},
   "outputs": [],
   "source": [
    "# Set number of intervals\n",
    "n=10\n",
    "# Seed for random number generator. \n",
    "# You should choose your own seed so that everyone does not end up with the same random sequences\n",
    "seed = 1235 \n",
    "# Initialise the random number generator\n",
    "rng = MersenneTwister(seed)\n",
    "# Generate a sample of n uniform random numbers in the interval [0,1]\n",
    "X = rand(rng, n);"
   ]
  },
  {
   "cell_type": "markdown",
   "metadata": {},
   "source": [
    "The corresponding interval membership problem is constructed from the partial sums:\n",
    "$$x_i = \\sum_{j=1}^i y_j, \\ \\ \\ \\ \\ i=1,2,\\ldots n.$$ \n",
    "Using the objects defined in KVPair.jl and LList.jl, create an array of key-value pairs, $(i, x_i)$, associating each interval with the corresponding partial sum and store this array in a linked list. Print the list for a small value of $n$to verify that it works.\n",
    "\n",
    "**2)** Modify the search function you wrote above to write a recursive function\n",
    "\n",
    "$$\\text{intervalmembership(list::Nullable{LList}, x::Float64)}$$\n",
    "\n",
    "that takes the LList containing the list of partial sums and a random Float64 in the range $[0, x_n]$ as inputs and returns the KVPair corresponding to the interval in which $x$ lies. Verify that it works for small values of $n$ and use Julia's @timed macro to measure how the typical computational cost grows with $n$. \n",
    "\n",
    "**3)** The file FTree.jl defines a data structure implementing a variant of a Fenwick tree that can solve the interval membership problem as described in the lectures/notes. The function \n",
    "\n",
    "$$\\text{buildFTree(T::Nullable{FTree}, dataArray::Array{KVPair, 1})}$$\n",
    "\n",
    "takes the array of KVPairs containing the interval lengths as input, recursively constructs the tree and returns the FTree containing the correct key-value pairs (note a key of -1 is assigned to all non-leaf nodes)."
   ]
  },
  {
   "cell_type": "code",
   "execution_count": null,
   "metadata": {},
   "outputs": [],
   "source": [
    "n=5\n",
    "X = rand(rng, 5)\n",
    "# Now calculate the array of partial sums\n",
    "values = Array{KVPair}(5)\n",
    "for i in 1:n\n",
    "    values[i] = KVPair(i,X[i])\n",
    "end\n",
    "T = Nullable{FTree}(FTree(KVPair(0,0.0)))\n",
    "T=buildFTree(T, values)"
   ]
  },
  {
   "cell_type": "markdown",
   "metadata": {},
   "source": [
    "Write a recursive function\n",
    "\n",
    "$$\\text{intervalmembership(FT::Nullable{FTree}, x::Float64)}$$\n",
    "\n",
    "that takes the FTree containing the list of partial sums and a random Float64 in the range $[0, x_n]$ as \n",
    "inputs and returns the KVPair corresponding to the interval in which $x$ lies. Verify that it works for small values of $n$ and use Julia's @timed macro to compare how the typical computational compares to the above linear search version. Note it can sometimes be difficult to directly measure $O(\\log\\, n)$ growth in computation time since the problem size needs to become very large to register appreciable run times."
   ]
  },
  {
   "cell_type": "markdown",
   "metadata": {},
   "source": [
    "#### Question 2 Part 1 \n",
    "The function \"create_KVPairs_partial_sums\" takes the desired number of intervals as input argument. It then generates a random array X of length n and calculates the value of key value pair i as the cumulative sum of the first i entries of the array X. We then use the function \"buildLList\" to turn the generated array into a list."
   ]
  },
  {
   "cell_type": "code",
   "execution_count": 12,
   "metadata": {},
   "outputs": [
    {
     "name": "stderr",
     "output_type": "stream",
     "text": [
      "WARNING: Method definition create_KVPairs_partial_sums(Any) in module Main at In[11]:2 overwritten at In[12]:2.\n"
     ]
    }
   ],
   "source": [
    "function create_KVPairs_partial_sums(n)#desired number of intervals\n",
    "    seed = 1235 \n",
    "    rng = MersenneTwister(seed)\n",
    "    X = rand(rng, n)                    #random array of length n\n",
    "    values = Array{KVPair}(n)           #empty array with n KVPairs\n",
    "    for i in 1:n                     \n",
    "        x=sum(X[1:i])                   #compute the cumulative sum of the first i values of X\n",
    "        values[i]=KVPair(i,x)           # define the KV pair\n",
    "    end\n",
    "    return values                       #return the array of KVPairs\n",
    "end;"
   ]
  },
  {
   "cell_type": "code",
   "execution_count": 15,
   "metadata": {},
   "outputs": [
    {
     "data": {
      "text/plain": [
       "Nullable{LList}(LList(KVPair(1,0.0951588),LList(KVPair(2,0.366057),LList(KVPair(3,1.27237),LList(KVPair(4,2.10596),LList(KVPair(5,3.05101),#NULL))))))"
      ]
     },
     "execution_count": 15,
     "metadata": {},
     "output_type": "execute_result"
    }
   ],
   "source": [
    "values=create_KVPairs_partial_sums(5)\n",
    "L=buildLList(values)"
   ]
  },
  {
   "cell_type": "markdown",
   "metadata": {},
   "source": [
    "To check that the function works, we print the values of the list and the cumulative sums of the random array X for a small value of n (n=5). We see that the function is working correctly."
   ]
  },
  {
   "cell_type": "code",
   "execution_count": 16,
   "metadata": {},
   "outputs": [
    {
     "name": "stdout",
     "output_type": "stream",
     "text": [
      "0.09515880533766441\n",
      "0.09515880533766441\n",
      "0.3660566209216942\n",
      "0.3660566209216942\n",
      "1.2723720624303905\n",
      "1.2723720624303905\n",
      "2.1059565816183605\n",
      "2.1059565816183605\n",
      "3.0510113282306257\n",
      "3.0510113282306257\n"
     ]
    }
   ],
   "source": [
    "for i=1:length(values)\n",
    "   println(list_search(L,i).value)\n",
    "    println(values[i].value) \n",
    "end"
   ]
  },
  {
   "cell_type": "markdown",
   "metadata": {},
   "source": [
    "#### Question 2 Part 2 \n",
    "We introduce the recursive function \"intervalmembership\" that takes a list and a Float64 as input arguments. We then compare x to the value of the key value pair at the top of the list. If the input value x (Float64) is smaller than the value of the key value, the value x is in the corresponing interval and the search is finished. Else we move to the next element of the list and repeat the search. We check for a small value of n (n=10) that the function works."
   ]
  },
  {
   "cell_type": "code",
   "execution_count": 19,
   "metadata": {},
   "outputs": [
    {
     "name": "stderr",
     "output_type": "stream",
     "text": [
      "WARNING: Method definition intervalmembership(Base.Nullable{Main.LList}, Float64) in module Main at In[18]:2 overwritten at In[19]:2.\n"
     ]
    }
   ],
   "source": [
    "function intervalmembership(list::Nullable{LList},x::Float64) #The input has to be a Nullable{LList} and a Float64\n",
    "    L=list\n",
    "    k=get(L).data   #k is the key value pair at the top of the list (corresponding to the first interval)\n",
    "    k2=k.value      #k2 is the upper interval border\n",
    "    if (x < k2)     #if x is smaller than the interval border, it is in the interval, return the corresponding KVPair\n",
    "        return(k)  \n",
    "        else        #if the x is not smaller than the upper interval border, it has to be in one of the higher intervals \n",
    "        L=get(L).next #update the list to the next interval\n",
    "        intervalmembership(L,x) #repeat the process (recursively)\n",
    "        \n",
    "    end\n",
    "end;"
   ]
  },
  {
   "cell_type": "code",
   "execution_count": 46,
   "metadata": {},
   "outputs": [
    {
     "name": "stdout",
     "output_type": "stream",
     "text": [
      "0.21212874979339075\n",
      "KVPair(2,0.2708978155840298)\n",
      "KVPair[KVPair(1,0.0951588),KVPair(2,0.270898),KVPair(3,0.906315),KVPair(4,0.833585),KVPair(5,0.945055),KVPair(6,0.443669),KVPair(7,0.904577),KVPair(8,0.941598),KVPair(9,0.0375897),KVPair(10,0.996082)]\n"
     ]
    }
   ],
   "source": [
    "create_KVPairs_partial_sums(n)  #create the KVPairs that contain (interval index, upper boundary)\n",
    "x=rand()*values[10].value       #create a random value in the right range\n",
    "println(x)                      \n",
    "println(intervalmembership(L,x)) # use the function interval membership, print the returned KVPair\n",
    "println(values)                  # print the list of KVPairs to manually check if the function works correctly"
   ]
  },
  {
   "cell_type": "markdown",
   "metadata": {},
   "source": [
    "Finally, we want to explore how the computational effort increases with the length of the list. We fix the maximal list length n and the number of repetitions per list length m. For every list length between one and 600 we use the function \"create_KVPairs_partial_sums\" and the function \"buildLList\" to generate a random list, create a number in the correct range and use the function \"intervalmembership\". We then repeat this process m times for each intervall length and measure the time at each iteration. We take the mean of all iterations and assign it as a y-value to the corresponding list length. "
   ]
  },
  {
   "cell_type": "code",
   "execution_count": 51,
   "metadata": {},
   "outputs": [
    {
     "name": "stdout",
     "output_type": "stream",
     "text": [
      "The gradient of the best fit line is\n",
      "9.98756804046679e-9\n"
     ]
    },
    {
     "data": {
      "text/html": [
       "<img src=\"data:image/png;base64,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\" />"
      ]
     },
     "execution_count": 51,
     "metadata": {},
     "output_type": "execute_result"
    }
   ],
   "source": [
    "n=600\n",
    "m=10\n",
    "Time=zeros(n)\n",
    "for i=1:n\n",
    "    Sub_time=zeros(m)\n",
    "     for j=1:m\n",
    "        values=create_KVPairs_partial_sums(i)\n",
    "        L=buildLList( values)\n",
    "        x=rand()*values[i].value\n",
    "        Sub_time[j]=(@timed intervalmembership(L,x))[2];\n",
    "      end\n",
    "    Time[i]=mean(Sub_time)\n",
    "end\n",
    "x=1:1:n\n",
    "a,b=linreg(x,Time)\n",
    "println(\"The gradient of the best fit line is\")\n",
    "println(b)\n",
    "plot(x,Time*1e6, linewidth=2, label=\"Running time\",xlabel=\"List size\",ylabel=L\"Time in $\\mu s$\",title=\"Change of computational costs with growing list length\")\n",
    "plot!(x,(b*x+a)*1e6,linewidth=2,label=\"Best fit line\")"
   ]
  },
  {
   "cell_type": "markdown",
   "metadata": {},
   "source": [
    "We plot on a lin/lin plot and fit the best fit line. The plot shows that the computational cost of the list search grows linearly. "
   ]
  },
  {
   "cell_type": "markdown",
   "metadata": {},
   "source": [
    "#### Question 2 Part 3\n",
    "We use the function \"buildFTree\" to turn a list in a fenwick tree. We want to use the fenwick tree to solve the interval membership problem. To do that we implement the fast search algorithm as a function \"intervalmembership_tree\". It gives back the intervalmembership of a value x which is drawn from the correct range.  "
   ]
  },
  {
   "cell_type": "code",
   "execution_count": null,
   "metadata": {},
   "outputs": [],
   "source": [
    "function intervalmembership_tree(FT::Nullable{FTree},x::Float64) #the input needs to be of the type \"Nullable{LList}\", \"Int64\" \n",
    "    l=get(FT).left                            #let l be the left subtree\n",
    "    r=get(FT).right                           #let r be the right subtree\n",
    "    k=get(FT).data                            #let k be the stored KVPair\n",
    "    if (isnull(l)==true && isnull(r)==true)   #if both subtrees are empty, we are in a leaf and found the interval\n",
    "        return(k)                                             \n",
    "        elseif (isnull(l) ==false && x<get(l).data.value) #if the leftsubtree is not empty and x is smaller than the key value stored there go left\n",
    "            intervalmembership_tree(l,x)      #repeat the process with the left subtree\n",
    "        elseif (isnull(r)==false)             # if the rightsubtree is not empty and we're not in one of the previous cases\n",
    "            x=x-get(l).data.value             #update x to be x-key value of the left subtree  \n",
    "            intervalmembership_tree(r,x)      #repeat the process with the right subtree\n",
    "    end\n",
    "end"
   ]
  },
  {
   "cell_type": "markdown",
   "metadata": {},
   "source": [
    "We build a fenwick tree and check for a small value of n (n=10) that the function works, using the function \"intervallmembership\" we defined above."
   ]
  },
  {
   "cell_type": "code",
   "execution_count": null,
   "metadata": {},
   "outputs": [],
   "source": [
    "# function create_list_sumlist(n)\n",
    "#     X = rand(rng, n)\n",
    "#     values = Array{KVPair}(n)\n",
    "#     sum_values= Array{KVPair}(n)\n",
    "#     for i in 1:n\n",
    "#         values[i] = KVPair(i,X[i])\n",
    "#         s=sum(X[1:i])\n",
    "#         sum_values[i]=KVPair(i,s)\n",
    "#     end\n",
    "#     return values,sum_values\n",
    "# end"
   ]
  },
  {
   "cell_type": "code",
   "execution_count": null,
   "metadata": {},
   "outputs": [],
   "source": [
    "lists=create_list_sumlist(10)\n",
    "L=buildLList(lists[2])\n",
    "T = Nullable{FTree}(FTree(KVPair(0,0.0)))\n",
    "T=buildFTree(T, lists[1])\n",
    "C=lists[2]\n",
    "\n",
    "## check 5 times \n",
    "\n",
    "for i=1:5\n",
    "    y=rand()*C[i].value\n",
    "    println(y)\n",
    "    println(intervalmembership(L,y))\n",
    "    println(intervalmembership_tree(T,y))\n",
    "end "
   ]
  },
  {
   "cell_type": "markdown",
   "metadata": {},
   "source": [
    "Our experiments for small n suggest that the function works correctly. We now want to find out how the computational effort of the fenwick tree method for solving the interval problem changes when we increase the size of the input list (and therefore the size of the tree). We again fix a maximal list size n and a number of repetitions per list size m. We fix a list size, generate a tree, pick a random number from the correct range and compute the needed time for every iteration. We then take the mean of the needed running times and assign it as the y-value for the associated list size."
   ]
  },
  {
   "cell_type": "code",
   "execution_count": null,
   "metadata": {},
   "outputs": [],
   "source": [
    "n=600\n",
    "m=10\n",
    "Time=zeros(n)\n",
    "for i=1:n\n",
    "    Sub_time=zeros(m)\n",
    "     for j=1:m\n",
    "    values=create_KVPairs(i)\n",
    "    L=buildLList(values);\n",
    "    T = Nullable{FTree}(FTree(KVPair(0,0.0)));\n",
    "        \n",
    "    T=buildFTree(T, values);    \n",
    "    y=rand()*values[i].value\n",
    "       Sub_time[j]=(@timed intervalmembership_tree(T,y);)[2]\n",
    "      end\n",
    "    Time[i]=mean(Sub_time)\n",
    "end\n",
    "\n",
    "x=1:1:n\n",
    "plot(x,Time, linewidth=2, label=\"Running time\",xlabel=\"list size\",ylabel=\"time in seconds\",xscale=:log2)"
   ]
  },
  {
   "cell_type": "markdown",
   "metadata": {},
   "source": [
    "We're choosing to look at a lin/log plot to get a clearer picture of the function. It suggests that the computational effort increases logarithmically. The spikes seen in the plot are due to the randomness in the choise of the lists and desired values. For big list sizes, the second method is much faster than the first one. To emphasize this, we run both methods at the same time and instead of plotting the individual running times of both we plot the difference of the running times."
   ]
  },
  {
   "cell_type": "code",
   "execution_count": null,
   "metadata": {},
   "outputs": [],
   "source": [
    "n=600\n",
    "m=50\n",
    "Time=zeros(n)\n",
    "for i=1:n\n",
    "    Sub_time=zeros(m)\n",
    "    Sub_time_tree=zeros(m)\n",
    "    for j=1:m\n",
    "        lists=create_list_sumlist(i)\n",
    "        L=buildLList(lists[2])\n",
    "        T = Nullable{FTree}(FTree(KVPair(0,0.0)))\n",
    "        T=buildFTree(T, lists[1])\n",
    "        C=lists[2]\n",
    "        y=rand()*C[i].value\n",
    "    \n",
    "        Sub_time[j]= (@timed intervalmembership(L,y);)[2]\n",
    "        Sub_time_tree[j]=(@timed intervalmembership_tree(T,y);)[2]\n",
    "    end\n",
    "    Time[i]=mean(Sub_time)-mean(Sub_time_tree)\n",
    "end\n",
    "\n",
    "x=1:1:n\n",
    "plot(x,Time*1e6, linewidth=2, label=\"Time difference\",xlabel=\"list size\",ylabel=L\"Time difference in $\\mu s$\")"
   ]
  },
  {
   "cell_type": "markdown",
   "metadata": {},
   "source": [
    "The time difference is growing linearly, therefore the second method is much faster than the first one. "
   ]
  },
  {
   "cell_type": "markdown",
   "metadata": {},
   "source": [
    "## Question 3: Gillespie algorithm for heterogeneous diffusion\n",
    "\n",
    "The Gillespie algorithm is a dynamic Monte Carlo algorithm that generates statistically correct realisations of a continous time Markov process. See https://en.wikipedia.org/wiki/Gillespie_algorithm It is used heavily in stochastic simulation of chemical and biological reaction networks and population dynamics. In this question we use it to simulate one-dimensional diffusion of heterogeneous particles whose diffusion constants are independently drawn from an exponential distribution.\n",
    "\n",
    "The basic idea of the algorithm is as follows\n",
    "1. Create a list $\\left\\{(i, r_i), i=1,\\ldots M\\right\\}$,  of all possible transitions (events), $i$, that can occur in the system and the corresponding transition rates, $r_i$.\n",
    "2. Calculate the total rate\n",
    "$$R = \\sum_{i=1}^M r_i$$\n",
    "and divide the interval $[0, R]$ into $M$ intervals whose lengths are given by the $r_i$.\n",
    "3. Generate a uniform random number in the range $[0,R]$ and determine which interval it falls in. \n",
    "4. Perform the corresponding transition and update the time variable by an amount $\\Delta t = 1/R$.\n",
    "5. Repeat until the desired simulation time is reached.\n",
    "\n",
    "To be concrete, suppose with have $N$ particles on the interval $[-L, L]$ initially located at $x=0$. Each particle can hop a distance $\\Delta x$ to the left or to the right with equal probability. The rate of hopping is initially considered to be the same for all particles:\n",
    "\n",
    "$$ r_i = \\frac{D}{2}\\,\\frac{1}{(\\Delta x)^2} $$\n",
    "\n",
    "This choice ensures that in the continous limit ($\\Delta x \\to 0$, $N\\to \\infty$), the density of particles $c(x,t)$ on the line will satisfy the usual diffusion equation with diffusion coefficient $D$ (recall MA933):\n",
    "\n",
    "$$ \\frac{\\partial c}{\\partial t} = D \\frac{\\partial^2 c}{\\partial x^2}$$\n",
    "\n",
    "with initial condition $c(x,0) = \\delta(x)$.\n",
    "\n",
    "The steps of the algorithm then correspond to the following:\n",
    "1. There are $M= 2 N$ possible transitions at each step: each of $N$ particles can hop a distance $\\Delta x$ either left or right with the above rates. We index them as follows: events k=1:N correspond to particle k hopping to the right, events k=N+1:2N correspond to particle k-N hopping to the left.\n",
    "2. The total rate is \n",
    "$$ R = \\frac{D N}{(\\Delta x)^2}.$$\n",
    "3. Generate a uniform random number in the range $[0,R]$ and determine the index $k$ of particle to move and the direction.\n",
    "4. Update the position of particle $k$ accordingly.\n",
    "5. Repeat.\n",
    "\n",
    "The following piece of code implements the Gillespie algorithm for N=100, L=10, $\\Delta x = 0.1$ and $D=1$, converts the particle positions to particle density and compares to the solution of the diffusion equation on an unbounded domain at t=1 (we assume that L=10 is far enough from zero to be considered unbounded):\n",
    "\n",
    "$$c(x, t) = \\frac{1}{\\sqrt{2 \\pi D t}}\\, \\exp [-\\frac{1}{2}\\frac{x^2}{D t} ]$$"
   ]
  },
  {
   "cell_type": "code",
   "execution_count": null,
   "metadata": {},
   "outputs": [],
   "source": [
    "L=10.0\n",
    "N=100\n",
    "Nx = 201\n",
    "dx = 2.0*L/(Nx-1)\n",
    "X = dx.*(-(Nx-1)/2:(Nx-1)/2)\n",
    "Y =zeros(Int64,N)\n",
    "D = 1.0\n",
    "t=0.0\n",
    "\n",
    "\n",
    "r = (D/2.0)/(dx*dx)\n",
    "totalRate = 2.0*N*r\n",
    "dt = 1.0/totalRate\n",
    "T=1.0\n",
    "\n",
    "# This is the main loop\n",
    "while t < T\n",
    "    # Pick an event\n",
    "    k = rand(1:2*N)\n",
    "    if k<=N\n",
    "        hop = 1\n",
    "        particleId = k\n",
    "    else\n",
    "        hop = -1\n",
    "        particleId=k-N\n",
    "    end\n",
    "    Y[particleId]+=hop\n",
    "    t+=dt\n",
    "end\n",
    "\n",
    "# Calculate the estimated density of particles\n",
    "P =zeros(Float64,length(X))\n",
    "for i in 1:length(Y)\n",
    "    P[Y[i]+Int64((Nx-1)/2)+1]+=1/(N * dx)\n",
    "end\n",
    "\n",
    "# Calculate the theoretical density and compare\n",
    "function normal(x, D, t)\n",
    "    return (1.0/sqrt(2.0*pi*D*t))*exp(-x*x/(2*D*t))\n",
    "end\n",
    "P1 = normal.(X, D, T)\n",
    "plot(X, P1, label=\"Analytic solution of diffusion equation\",linewidth=2)\n",
    "plot!(X, P, label=\"Numerical estimate of particle density\",linewidth=2)\n",
    "xlabel!(\"x\")\n",
    "ylabel!(\"Particle density, c(x,t)\")\n",
    "title!(\"Stochastic simulation of simple diffusion in 1-D\")"
   ]
  },
  {
   "cell_type": "markdown",
   "metadata": {},
   "source": [
    "**1)** The code above makes critical use of the fact that all intervals have the same width in order to decide which particle to move at each step. Suppose now that instead of being equal to $D$ for each particle, the diffusion coefficients are drawn from an exponential distribution with mean $D$:\n",
    "\n",
    "$$ P(x) = \\frac{1}{D} \\exp\\left(-\\frac{x}{D}\\right). $$\n",
    "\n",
    "Modify the code to account for this, using your code from Q2 above to solve the interval membership problem using linear search. You will need to use Julia's randexp() function to generate values for the diffusion coefficients. What is the largest value of $N$ you can simulate in a \"reasonable\" time?\n",
    "\n",
    "**2)** Try again using your Fenwick tree from Q2 to solve the interval membership problem and compare. What is the largest value of $N$ you can simulate now?\n",
    "\n",
    "**3)** Show analytically that the solution of the heterogenous diffusion problem is\n",
    "\n",
    "$$ c(x,t) = \\frac{\\exp \\left(-\\sqrt{\\frac{2}{D\\,t}}\\, |x| \\right)}{\\sqrt{2\\, D\\, t}}$$\n",
    "\n",
    "You will probably need the integral formula (Formula 3.325 of Gradshteyn and Rizhik, 7th Ed.)\n",
    "\n",
    "$$ \\int_0^\\infty \\exp\\left(-a\\,x^2 - \\frac{b}{x^2} \\right)\\, dx =  \\frac{1}{2}\\,\\sqrt{\\frac{\\pi}{a}}\\,\\exp\\left(-2 \\sqrt{a\\,b} \\right).$$\n",
    "Use this formula to validate your numerical results.\n",
    "\n"
   ]
  },
  {
   "cell_type": "markdown",
   "metadata": {},
   "source": [
    "1. We consider the model from above but assume that the rates are drawn from an exponential distribution with mean D. We modify the algorithm with account to that. If we pick an event, in order to find out in which way we hop, we need to solve an interval membership problem. To do that, we first use the linear search defined above. "
   ]
  },
  {
   "cell_type": "code",
   "execution_count": null,
   "metadata": {
    "scrolled": true
   },
   "outputs": [],
   "source": [
    "D=1.0\n",
    "T=1.0\n",
    "X,P=particle_linear(1000)\n",
    "P1 = normal(X, D, T)\n",
    "plot(X, P1, label=\"Analytic solution of diffusion equation\",linewidth=2)\n",
    "plot!(X, P, label=\"Numerical estimate of particle density\",xlim=(-5,5),linewidth=2)\n",
    "xlabel!(\"x\")\n",
    "ylabel!(\"Particle density, c(x,t)\")\n",
    "title!(\"Stochastic simulation of simple diffusion in 1-D\")"
   ]
  },
  {
   "cell_type": "markdown",
   "metadata": {},
   "source": [
    "In order to measure the computational effort we embedd our process in the function \"particle_linear\", which takes N (number of particles) as an input argument. We want to see how our computational effort changes if we increase the particle number of particles."
   ]
  },
  {
   "cell_type": "code",
   "execution_count": null,
   "metadata": {},
   "outputs": [],
   "source": [
    "s=4\n",
    "Time=zeros(s)\n",
    "x=logspace(1,s,s)\n",
    "counter=1\n",
    "for i in x\n",
    "    Time[counter] = (@timed  particle_linear(Int(i)))[2]\n",
    "    counter=counter+1\n",
    "end \n",
    "scatter(x,Time,markersize=8,label=\"Running time\",xlabel=\"list size\",ylabel=\"time in seconds\",xscale=:log10,yscale=:log10,xlim=(10^0.5,10^(s+0.5)),ylim=(10^(-5.5),10^1.5))"
   ]
  },
  {
   "cell_type": "code",
   "execution_count": null,
   "metadata": {},
   "outputs": [],
   "source": [
    "function particle_tree(N)\n",
    "    L=10.0\n",
    "    N=1000\n",
    "    Nx = 201\n",
    "    dx = 2.0*L/(Nx-1)\n",
    "    X = dx.*(-(Nx-1)/2:(Nx-1)/2)\n",
    "    Y =zeros(Int64,N)\n",
    "    D = 1.0\n",
    "    t=0.0\n",
    "\n",
    "    #draw the rates from an exponential distribution\n",
    "    Rates=zeros(2*N)\n",
    "    Rates[1:N]=randexp(N)*D\n",
    "    Rates[N+1:2N]=Rates[1:N]\n",
    "    Rates=Rates.*(1/2(dx*dx))\n",
    "    #calculate the total rate\n",
    "    totalRate=sum(Rates)\n",
    "    #scale the time \n",
    "    dt = 1.0/totalRate\n",
    "\n",
    "    KV_Rates_tree=Array{KVPair}(2*N)\n",
    "\n",
    "    for i=1:2*N\n",
    "        x=Rates[i]\n",
    "        KV_Rates_tree[i]=KVPair(i,x)\n",
    "    end\n",
    "    Tree = Nullable{FTree}(FTree(KVPair(0,0.0)))\n",
    "    Tree=buildFTree(Tree, KV_Rates_tree)\n",
    "\n",
    "    # particle=rand()*totalRate\n",
    "\n",
    "    # intervalmembership(Rates_list,particle)\n",
    "\n",
    "\n",
    "    T=1.0\n",
    "\n",
    "    #This is the main loop\n",
    "    while t < T\n",
    "    #     # Pick an event\n",
    "        k = rand()*totalRate\n",
    "        interval=intervalmembership_tree(Tree,k)\n",
    "          interval=interval.key\n",
    "        if interval<=N\n",
    "            hop = 1\n",
    "            particleId = interval\n",
    "        else\n",
    "            hop = -1\n",
    "            particleId=interval-N\n",
    "        end\n",
    "        Y[particleId]+=hop\n",
    "        t+=dt\n",
    "    end\n",
    "\n",
    "    #Calculate the estimated density of particles\n",
    "    P =zeros(Float64,length(X))\n",
    "    for i in 1:length(Y)\n",
    "        P[Y[i]+Int64((Nx-1)/2)+1]+=1/(N * dx)\n",
    "    end\n",
    "    return X,P\n",
    "end\n"
   ]
  },
  {
   "cell_type": "code",
   "execution_count": null,
   "metadata": {},
   "outputs": [],
   "source": [
    "particle_tree(1000)"
   ]
  },
  {
   "cell_type": "code",
   "execution_count": null,
   "metadata": {},
   "outputs": [],
   "source": [
    "D=1.0\n",
    "T=1.0\n",
    "X,P=particle_tree(100000)\n",
    "P1 = normal(X, D, T)\n",
    "plot(X, P1, label=\"Analytic solution of diffusion equation\",linewidth=3)\n",
    "plot!(X, P, label=\"Numerical estimate of particle density\",linewidth=2)\n",
    "xlabel!(\"x\")\n",
    "ylabel!(\"Particle density, c(x,t)\")\n",
    "title!(\"Stochastic simulation of simple diffusion in 1-D\")"
   ]
  },
  {
   "cell_type": "code",
   "execution_count": null,
   "metadata": {},
   "outputs": [],
   "source": [
    "s=18\n",
    "Time=zeros(s)\n",
    "x=logspace(1,s,s)\n",
    "counter=1\n",
    "for i in x\n",
    "    Time[counter] = (@timed  particle_tree(Int(i)))[2]\n",
    "    counter=counter+1\n",
    "end \n",
    "scatter(x,Time,markersize=8,label=\"Running time\",xlabel=\"list size\",ylabel=\"time in seconds\",xscale=:log10,yscale=:log10,xlim=(10^0.5,10^(s+0.5)),ylim=(10^(-5.5),10^1.5))"
   ]
  },
  {
   "cell_type": "code",
   "execution_count": null,
   "metadata": {},
   "outputs": [],
   "source": [
    "## compare\n",
    "\n",
    "a=@timed(particle_crap())[2]\n",
    "b=@timed(particle_crap_tree())[2]\n",
    "println(a-b)"
   ]
  }
 ],
 "metadata": {
  "kernelspec": {
   "display_name": "Julia 0.5.2",
   "language": "julia",
   "name": "julia-0.5"
  },
  "language_info": {
   "file_extension": ".jl",
   "mimetype": "application/julia",
   "name": "julia",
   "version": "0.5.2"
  }
 },
 "nbformat": 4,
 "nbformat_minor": 1
}
